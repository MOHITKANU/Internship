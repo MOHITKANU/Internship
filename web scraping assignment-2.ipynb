{
 "cells": [
  {
   "cell_type": "markdown",
   "id": "86835fce",
   "metadata": {},
   "source": [
    "# 1.python program to scrape data for “Data Analyst” Job position in “Bangalore” location. You\n",
    "have to scrape the job-title, job-location, company_name, experience_required. You have to scrape first 10\n",
    "jobs data."
   ]
  },
  {
   "cell_type": "code",
   "execution_count": 2,
   "id": "b7c9d9cb",
   "metadata": {},
   "outputs": [
    {
     "name": "stdout",
     "output_type": "stream",
     "text": [
      "Requirement already satisfied: selenium in c:\\programdata\\anaconda3\\lib\\site-packages (4.1.0)\n",
      "Requirement already satisfied: urllib3[secure]~=1.26 in c:\\programdata\\anaconda3\\lib\\site-packages (from selenium) (1.26.7)\n",
      "Requirement already satisfied: trio~=0.17 in c:\\programdata\\anaconda3\\lib\\site-packages (from selenium) (0.19.0)\n",
      "Requirement already satisfied: trio-websocket~=0.9 in c:\\programdata\\anaconda3\\lib\\site-packages (from selenium) (0.9.2)\n",
      "Requirement already satisfied: async-generator>=1.9 in c:\\programdata\\anaconda3\\lib\\site-packages (from trio~=0.17->selenium) (1.10)\n",
      "Requirement already satisfied: sortedcontainers in c:\\programdata\\anaconda3\\lib\\site-packages (from trio~=0.17->selenium) (2.4.0)\n",
      "Requirement already satisfied: idna in c:\\programdata\\anaconda3\\lib\\site-packages (from trio~=0.17->selenium) (3.2)\n",
      "Requirement already satisfied: sniffio in c:\\programdata\\anaconda3\\lib\\site-packages (from trio~=0.17->selenium) (1.2.0)\n",
      "Requirement already satisfied: attrs>=19.2.0 in c:\\programdata\\anaconda3\\lib\\site-packages (from trio~=0.17->selenium) (21.2.0)\n",
      "Requirement already satisfied: cffi>=1.14 in c:\\programdata\\anaconda3\\lib\\site-packages (from trio~=0.17->selenium) (1.14.6)\n",
      "Requirement already satisfied: outcome in c:\\programdata\\anaconda3\\lib\\site-packages (from trio~=0.17->selenium) (1.1.0)\n",
      "Requirement already satisfied: pycparser in c:\\programdata\\anaconda3\\lib\\site-packages (from cffi>=1.14->trio~=0.17->selenium) (2.20)\n",
      "Requirement already satisfied: wsproto>=0.14 in c:\\programdata\\anaconda3\\lib\\site-packages (from trio-websocket~=0.9->selenium) (1.0.0)\n",
      "Requirement already satisfied: pyOpenSSL>=0.14 in c:\\programdata\\anaconda3\\lib\\site-packages (from urllib3[secure]~=1.26->selenium) (21.0.0)\n",
      "Requirement already satisfied: cryptography>=1.3.4 in c:\\programdata\\anaconda3\\lib\\site-packages (from urllib3[secure]~=1.26->selenium) (3.4.8)\n",
      "Requirement already satisfied: certifi in c:\\programdata\\anaconda3\\lib\\site-packages (from urllib3[secure]~=1.26->selenium) (2021.10.8)\n",
      "Requirement already satisfied: six>=1.5.2 in c:\\programdata\\anaconda3\\lib\\site-packages (from pyOpenSSL>=0.14->urllib3[secure]~=1.26->selenium) (1.16.0)\n",
      "Requirement already satisfied: h11<1,>=0.9.0 in c:\\programdata\\anaconda3\\lib\\site-packages (from wsproto>=0.14->trio-websocket~=0.9->selenium) (0.12.0)\n"
     ]
    }
   ],
   "source": [
    "!pip install selenium"
   ]
  },
  {
   "cell_type": "code",
   "execution_count": 1,
   "id": "6d799ffa",
   "metadata": {},
   "outputs": [],
   "source": [
    "import selenium\n",
    "from selenium import webdriver\n",
    "import pandas as pd\n",
    "import warnings\n",
    "warnings.filterwarnings(\"ignore\")"
   ]
  },
  {
   "cell_type": "code",
   "execution_count": 2,
   "id": "f39edc97",
   "metadata": {},
   "outputs": [],
   "source": [
    "#connect to the web driver\n",
    "driver=webdriver.Chrome(r'C:\\Users\\Hi\\Downloads\\chromedriver_win32\\chromedriver.exe')"
   ]
  },
  {
   "cell_type": "code",
   "execution_count": 13,
   "id": "39f91164",
   "metadata": {},
   "outputs": [],
   "source": [
    "driver=webdriver.Chrome('chromedriver.exe')"
   ]
  },
  {
   "cell_type": "code",
   "execution_count": 17,
   "id": "c2e6218e",
   "metadata": {},
   "outputs": [],
   "source": [
    "url = 'https://www.naukri.com/'\n",
    "driver.get(url)"
   ]
  },
  {
   "cell_type": "code",
   "execution_count": 20,
   "id": "4306669c",
   "metadata": {},
   "outputs": [
    {
     "data": {
      "text/plain": [
       "<selenium.webdriver.remote.webelement.WebElement (session=\"914011c0144f7202f7bafd26fd60d8a8\", element=\"f588c771-2432-46da-acc9-319e50a63619\")>"
      ]
     },
     "execution_count": 20,
     "metadata": {},
     "output_type": "execute_result"
    }
   ],
   "source": [
    "#finding element for search job bar using absolute xpath\n",
    "search_job=driver.find_element_by_xpath('/html/body/div[1]/div[3]/div[2]/section/div/form/div[1]/div/div/div/div[1]/div[2]/input')\n",
    "search_job"
   ]
  },
  {
   "cell_type": "code",
   "execution_count": 22,
   "id": "9f720d97",
   "metadata": {},
   "outputs": [],
   "source": [
    "search_job.send_keys(\"data analyst\")"
   ]
  },
  {
   "cell_type": "code",
   "execution_count": 23,
   "id": "6c30b440",
   "metadata": {},
   "outputs": [
    {
     "data": {
      "text/plain": [
       "<selenium.webdriver.remote.webelement.WebElement (session=\"914011c0144f7202f7bafd26fd60d8a8\", element=\"4998a2e3-0699-4063-a19b-52d3a38804ba\")>"
      ]
     },
     "execution_count": 23,
     "metadata": {},
     "output_type": "execute_result"
    }
   ],
   "source": [
    "search_loc=driver.find_element_by_xpath('/html/body/div[1]/div[3]/div[2]/section/div/form/div[2]/div/div/div/div[1]/div[2]/input')\n",
    "search_loc"
   ]
  },
  {
   "cell_type": "code",
   "execution_count": 24,
   "id": "88ab319e",
   "metadata": {},
   "outputs": [],
   "source": [
    "search_loc.send_keys(\"bangalore\")"
   ]
  },
  {
   "cell_type": "code",
   "execution_count": 25,
   "id": "b1679b8c",
   "metadata": {},
   "outputs": [
    {
     "data": {
      "text/plain": [
       "<selenium.webdriver.remote.webelement.WebElement (session=\"914011c0144f7202f7bafd26fd60d8a8\", element=\"566fe8e8-5965-4e95-a157-cb3ce537f781\")>"
      ]
     },
     "execution_count": 25,
     "metadata": {},
     "output_type": "execute_result"
    }
   ],
   "source": [
    "search_button=driver.find_element_by_xpath('/html/body/div[1]/div[3]/div[2]/section/div/form/div[3]/button')\n",
    "search_button"
   ]
  },
  {
   "cell_type": "code",
   "execution_count": 26,
   "id": "113ee9e8",
   "metadata": {},
   "outputs": [],
   "source": [
    "search_button.click()"
   ]
  },
  {
   "cell_type": "code",
   "execution_count": 48,
   "id": "0205b3dc",
   "metadata": {},
   "outputs": [
    {
     "data": {
      "text/plain": [
       "[<selenium.webdriver.remote.webelement.WebElement (session=\"914011c0144f7202f7bafd26fd60d8a8\", element=\"56f23473-2311-4b29-997d-946e08f8a344\")>,\n",
       " <selenium.webdriver.remote.webelement.WebElement (session=\"914011c0144f7202f7bafd26fd60d8a8\", element=\"f1d72811-3819-44c8-b39c-927263422732\")>,\n",
       " <selenium.webdriver.remote.webelement.WebElement (session=\"914011c0144f7202f7bafd26fd60d8a8\", element=\"7fb4b0ce-957d-452d-bfc8-b63c0f0f9809\")>,\n",
       " <selenium.webdriver.remote.webelement.WebElement (session=\"914011c0144f7202f7bafd26fd60d8a8\", element=\"e9c72a58-ad3d-43e1-8e9c-a92027545eb1\")>,\n",
       " <selenium.webdriver.remote.webelement.WebElement (session=\"914011c0144f7202f7bafd26fd60d8a8\", element=\"5a2e57f4-0b08-4137-acd4-294ddf56b484\")>,\n",
       " <selenium.webdriver.remote.webelement.WebElement (session=\"914011c0144f7202f7bafd26fd60d8a8\", element=\"ece6aa3a-0f8f-4240-b88c-b01148585529\")>,\n",
       " <selenium.webdriver.remote.webelement.WebElement (session=\"914011c0144f7202f7bafd26fd60d8a8\", element=\"7811e058-f5a4-4076-afba-ea20879211e7\")>,\n",
       " <selenium.webdriver.remote.webelement.WebElement (session=\"914011c0144f7202f7bafd26fd60d8a8\", element=\"f3b81df9-329f-4566-a7ea-968605c04295\")>,\n",
       " <selenium.webdriver.remote.webelement.WebElement (session=\"914011c0144f7202f7bafd26fd60d8a8\", element=\"ca91edbb-26f0-44ad-a1e7-62556814630b\")>,\n",
       " <selenium.webdriver.remote.webelement.WebElement (session=\"914011c0144f7202f7bafd26fd60d8a8\", element=\"7467f380-b51e-4d61-83c0-c403cc4676b6\")>]"
      ]
     },
     "execution_count": 48,
     "metadata": {},
     "output_type": "execute_result"
    }
   ],
   "source": [
    "title_tags=driver.find_elements_by_xpath('//a[@class=\"title fw500 ellipsis\"]')\n",
    "len(title_tags)\n",
    "title_tags=title_tags[0:10]\n",
    "title_tags"
   ]
  },
  {
   "cell_type": "code",
   "execution_count": 49,
   "id": "5ec55a7c",
   "metadata": {},
   "outputs": [
    {
     "data": {
      "text/plain": [
       "['Lead - Data Analyst / Scientist',\n",
       " 'Senior Data Analyst - Supporting Audits',\n",
       " 'Senior Data Analyst',\n",
       " 'Data Analyst',\n",
       " 'Tcs Hiring For Data Analyst / Engineers',\n",
       " 'Business Data Analyst - Database Design/Mining',\n",
       " 'Senior Data Analyst - KPO',\n",
       " 'Senior Data Analyst',\n",
       " 'Senior Data Analyst',\n",
       " 'Advanced Services Engineer - Data Analyst']"
      ]
     },
     "execution_count": 49,
     "metadata": {},
     "output_type": "execute_result"
    }
   ],
   "source": [
    "\n",
    "jobs_title=[]\n",
    "for i in title_tags:\n",
    "    jobs_title.append(i.text)\n",
    "jobs_title"
   ]
  },
  {
   "cell_type": "code",
   "execution_count": 47,
   "id": "b01dbf7e",
   "metadata": {},
   "outputs": [
    {
     "data": {
      "text/plain": [
       "['Axim Technologies',\n",
       " 'Visa',\n",
       " 'Schneider Electric',\n",
       " 'Snaphunt',\n",
       " 'Tata Consultancy Services Ltd.',\n",
       " 'AugmatrixGo',\n",
       " 'Huquo Consulting Pvt. Ltd',\n",
       " 'Glance IT Solution',\n",
       " 'Arcworth Strategy LLP',\n",
       " 'Juniper Networks']"
      ]
     },
     "execution_count": 47,
     "metadata": {},
     "output_type": "execute_result"
    }
   ],
   "source": [
    "company_names=driver.find_elements_by_xpath('//a[@class=\"subTitle ellipsis fleft\"]')\n",
    "company_name=[]\n",
    "for i in company_names:\n",
    "    company_name.append(i.text)\n",
    "company_name=company_name[0:10]\n",
    "company_name"
   ]
  },
  {
   "cell_type": "code",
   "execution_count": 60,
   "id": "47bd3b52",
   "metadata": {},
   "outputs": [
    {
     "data": {
      "text/plain": [
       "['12-14 Yrs',\n",
       " '5-8 Yrs',\n",
       " '0-2 Yrs',\n",
       " '0-2 Yrs',\n",
       " '4-9 Yrs',\n",
       " '2-5 Yrs',\n",
       " '7-12 Yrs',\n",
       " '1-6 Yrs',\n",
       " '2-4 Yrs',\n",
       " '5-9 Yrs']"
      ]
     },
     "execution_count": 60,
     "metadata": {},
     "output_type": "execute_result"
    }
   ],
   "source": [
    "company_exp=driver.find_elements_by_xpath('//li[@class=\"fleft grey-text br2 placeHolderLi experience\"]')\n",
    "exp_required=[]\n",
    "for i in company_exp:\n",
    "    exp_required.append(i.text)\n",
    "exp_required=exp_required[0:10]\n",
    "exp_required"
   ]
  },
  {
   "cell_type": "code",
   "execution_count": 53,
   "id": "b174c433",
   "metadata": {},
   "outputs": [
    {
     "data": {
      "text/plain": [
       "['Not disclosed',\n",
       " 'Not disclosed',\n",
       " 'Not disclosed',\n",
       " 'Not disclosed',\n",
       " 'Not disclosed',\n",
       " 'Not disclosed',\n",
       " 'Not disclosed',\n",
       " 'Not disclosed',\n",
       " '2,00,000 - 6,00,000 PA.',\n",
       " 'Not disclosed']"
      ]
     },
     "execution_count": 53,
     "metadata": {},
     "output_type": "execute_result"
    }
   ],
   "source": [
    "sal_bracket=driver.find_elements_by_xpath('//li[@class=\"fleft grey-text br2 placeHolderLi salary\"]')\n",
    "sal=[]\n",
    "for i in sal_bracket:\n",
    "    sal.append(i.text)\n",
    "sal=sal[0:10]\n",
    "sal"
   ]
  },
  {
   "cell_type": "code",
   "execution_count": 54,
   "id": "e7e5c7b1",
   "metadata": {},
   "outputs": [
    {
     "data": {
      "text/plain": [
       "['Bangalore/Bengaluru',\n",
       " 'Bangalore/Bengaluru',\n",
       " 'Bangalore/Bengaluru',\n",
       " 'Bangalore/Bengaluru',\n",
       " 'Pune, Bangalore/Bengaluru, Delhi / NCR',\n",
       " 'Bangalore/Bengaluru',\n",
       " 'Gurgaon/Gurugram, Bangalore/Bengaluru',\n",
       " 'Bangalore/Bengaluru',\n",
       " 'Remote',\n",
       " 'Bangalore/Bengaluru']"
      ]
     },
     "execution_count": 54,
     "metadata": {},
     "output_type": "execute_result"
    }
   ],
   "source": [
    "job_loc=driver.find_elements_by_xpath('//li[@class=\"fleft grey-text br2 placeHolderLi location\"]')\n",
    "loc=[]\n",
    "for i in job_loc:\n",
    "    loc.append(i.text)\n",
    "loc=loc[0:10]\n",
    "loc"
   ]
  },
  {
   "cell_type": "code",
   "execution_count": 61,
   "id": "07fe5a47",
   "metadata": {},
   "outputs": [
    {
     "data": {
      "text/plain": [
       "(10, 10, 10, 10, 10)"
      ]
     },
     "execution_count": 61,
     "metadata": {},
     "output_type": "execute_result"
    }
   ],
   "source": [
    "len(loc),len(sal),len(exp_required),len(company_name),len(jobs_title)"
   ]
  },
  {
   "cell_type": "code",
   "execution_count": 63,
   "id": "4dae9c75",
   "metadata": {},
   "outputs": [
    {
     "data": {
      "text/html": [
       "<div>\n",
       "<style scoped>\n",
       "    .dataframe tbody tr th:only-of-type {\n",
       "        vertical-align: middle;\n",
       "    }\n",
       "\n",
       "    .dataframe tbody tr th {\n",
       "        vertical-align: top;\n",
       "    }\n",
       "\n",
       "    .dataframe thead th {\n",
       "        text-align: right;\n",
       "    }\n",
       "</style>\n",
       "<table border=\"1\" class=\"dataframe\">\n",
       "  <thead>\n",
       "    <tr style=\"text-align: right;\">\n",
       "      <th></th>\n",
       "      <th>Title</th>\n",
       "      <th>Company</th>\n",
       "      <th>Experiance</th>\n",
       "      <th>Salary</th>\n",
       "      <th>Location</th>\n",
       "    </tr>\n",
       "  </thead>\n",
       "  <tbody>\n",
       "    <tr>\n",
       "      <th>0</th>\n",
       "      <td>Lead - Data Analyst / Scientist</td>\n",
       "      <td>Axim Technologies</td>\n",
       "      <td>12-14 Yrs</td>\n",
       "      <td>Not disclosed</td>\n",
       "      <td>Bangalore/Bengaluru</td>\n",
       "    </tr>\n",
       "    <tr>\n",
       "      <th>1</th>\n",
       "      <td>Senior Data Analyst - Supporting Audits</td>\n",
       "      <td>Visa</td>\n",
       "      <td>5-8 Yrs</td>\n",
       "      <td>Not disclosed</td>\n",
       "      <td>Bangalore/Bengaluru</td>\n",
       "    </tr>\n",
       "    <tr>\n",
       "      <th>2</th>\n",
       "      <td>Senior Data Analyst</td>\n",
       "      <td>Schneider Electric</td>\n",
       "      <td>0-2 Yrs</td>\n",
       "      <td>Not disclosed</td>\n",
       "      <td>Bangalore/Bengaluru</td>\n",
       "    </tr>\n",
       "    <tr>\n",
       "      <th>3</th>\n",
       "      <td>Data Analyst</td>\n",
       "      <td>Snaphunt</td>\n",
       "      <td>0-2 Yrs</td>\n",
       "      <td>Not disclosed</td>\n",
       "      <td>Bangalore/Bengaluru</td>\n",
       "    </tr>\n",
       "    <tr>\n",
       "      <th>4</th>\n",
       "      <td>Tcs Hiring For Data Analyst / Engineers</td>\n",
       "      <td>Tata Consultancy Services Ltd.</td>\n",
       "      <td>4-9 Yrs</td>\n",
       "      <td>Not disclosed</td>\n",
       "      <td>Pune, Bangalore/Bengaluru, Delhi / NCR</td>\n",
       "    </tr>\n",
       "    <tr>\n",
       "      <th>5</th>\n",
       "      <td>Business Data Analyst - Database Design/Mining</td>\n",
       "      <td>AugmatrixGo</td>\n",
       "      <td>2-5 Yrs</td>\n",
       "      <td>Not disclosed</td>\n",
       "      <td>Bangalore/Bengaluru</td>\n",
       "    </tr>\n",
       "    <tr>\n",
       "      <th>6</th>\n",
       "      <td>Senior Data Analyst - KPO</td>\n",
       "      <td>Huquo Consulting Pvt. Ltd</td>\n",
       "      <td>7-12 Yrs</td>\n",
       "      <td>Not disclosed</td>\n",
       "      <td>Gurgaon/Gurugram, Bangalore/Bengaluru</td>\n",
       "    </tr>\n",
       "    <tr>\n",
       "      <th>7</th>\n",
       "      <td>Senior Data Analyst</td>\n",
       "      <td>Glance IT Solution</td>\n",
       "      <td>1-6 Yrs</td>\n",
       "      <td>Not disclosed</td>\n",
       "      <td>Bangalore/Bengaluru</td>\n",
       "    </tr>\n",
       "    <tr>\n",
       "      <th>8</th>\n",
       "      <td>Senior Data Analyst</td>\n",
       "      <td>Arcworth Strategy LLP</td>\n",
       "      <td>2-4 Yrs</td>\n",
       "      <td>2,00,000 - 6,00,000 PA.</td>\n",
       "      <td>Remote</td>\n",
       "    </tr>\n",
       "    <tr>\n",
       "      <th>9</th>\n",
       "      <td>Advanced Services Engineer - Data Analyst</td>\n",
       "      <td>Juniper Networks</td>\n",
       "      <td>5-9 Yrs</td>\n",
       "      <td>Not disclosed</td>\n",
       "      <td>Bangalore/Bengaluru</td>\n",
       "    </tr>\n",
       "  </tbody>\n",
       "</table>\n",
       "</div>"
      ],
      "text/plain": [
       "                                            Title  \\\n",
       "0                 Lead - Data Analyst / Scientist   \n",
       "1         Senior Data Analyst - Supporting Audits   \n",
       "2                             Senior Data Analyst   \n",
       "3                                    Data Analyst   \n",
       "4         Tcs Hiring For Data Analyst / Engineers   \n",
       "5  Business Data Analyst - Database Design/Mining   \n",
       "6                       Senior Data Analyst - KPO   \n",
       "7                             Senior Data Analyst   \n",
       "8                             Senior Data Analyst   \n",
       "9       Advanced Services Engineer - Data Analyst   \n",
       "\n",
       "                          Company Experiance                   Salary  \\\n",
       "0               Axim Technologies  12-14 Yrs            Not disclosed   \n",
       "1                            Visa    5-8 Yrs            Not disclosed   \n",
       "2              Schneider Electric    0-2 Yrs            Not disclosed   \n",
       "3                        Snaphunt    0-2 Yrs            Not disclosed   \n",
       "4  Tata Consultancy Services Ltd.    4-9 Yrs            Not disclosed   \n",
       "5                     AugmatrixGo    2-5 Yrs            Not disclosed   \n",
       "6       Huquo Consulting Pvt. Ltd   7-12 Yrs            Not disclosed   \n",
       "7              Glance IT Solution    1-6 Yrs            Not disclosed   \n",
       "8           Arcworth Strategy LLP    2-4 Yrs  2,00,000 - 6,00,000 PA.   \n",
       "9                Juniper Networks    5-9 Yrs            Not disclosed   \n",
       "\n",
       "                                 Location  \n",
       "0                     Bangalore/Bengaluru  \n",
       "1                     Bangalore/Bengaluru  \n",
       "2                     Bangalore/Bengaluru  \n",
       "3                     Bangalore/Bengaluru  \n",
       "4  Pune, Bangalore/Bengaluru, Delhi / NCR  \n",
       "5                     Bangalore/Bengaluru  \n",
       "6   Gurgaon/Gurugram, Bangalore/Bengaluru  \n",
       "7                     Bangalore/Bengaluru  \n",
       "8                                  Remote  \n",
       "9                     Bangalore/Bengaluru  "
      ]
     },
     "execution_count": 63,
     "metadata": {},
     "output_type": "execute_result"
    }
   ],
   "source": [
    "#dataframe\n",
    "jobs=pd.DataFrame()\n",
    "jobs['Title']=jobs_title\n",
    "jobs['Company']=company_name\n",
    "jobs['Experiance']=exp_required\n",
    "jobs['Salary']=sal\n",
    "jobs['Location']=loc\n",
    "jobs"
   ]
  },
  {
   "cell_type": "markdown",
   "id": "ab9fc6db",
   "metadata": {},
   "source": [
    "# 2.python program to scrape data for “Data Scientist” Job position in “Bangalore” location. You\n",
    "have to scrape the job-title, job-location, company_name"
   ]
  },
  {
   "cell_type": "code",
   "execution_count": 67,
   "id": "71f99513",
   "metadata": {},
   "outputs": [],
   "source": [
    "driver=webdriver.Chrome(r'C:\\Users\\Hi\\Downloads\\chromedriver_win32\\chromedriver.exe')"
   ]
  },
  {
   "cell_type": "code",
   "execution_count": 68,
   "id": "df651025",
   "metadata": {},
   "outputs": [],
   "source": [
    "url = 'https://www.naukri.com/'\n",
    "driver.get(url)"
   ]
  },
  {
   "cell_type": "code",
   "execution_count": 69,
   "id": "39cf78d0",
   "metadata": {},
   "outputs": [
    {
     "data": {
      "text/plain": [
       "<selenium.webdriver.remote.webelement.WebElement (session=\"c3aaddb0e625f2b342a8047c2ea3b006\", element=\"f239b675-7d03-4763-8900-a02878895a43\")>"
      ]
     },
     "execution_count": 69,
     "metadata": {},
     "output_type": "execute_result"
    }
   ],
   "source": [
    "search_job=driver.find_element_by_xpath('/html/body/div[1]/div[3]/div[2]/section/div/form/div[1]/div/div/div/div[1]/div[2]/input')\n",
    "search_job"
   ]
  },
  {
   "cell_type": "code",
   "execution_count": 70,
   "id": "ae683d0b",
   "metadata": {},
   "outputs": [],
   "source": [
    "search_job.send_keys(\"Data Scientist\")"
   ]
  },
  {
   "cell_type": "code",
   "execution_count": 71,
   "id": "f7f3a575",
   "metadata": {},
   "outputs": [
    {
     "data": {
      "text/plain": [
       "<selenium.webdriver.remote.webelement.WebElement (session=\"c3aaddb0e625f2b342a8047c2ea3b006\", element=\"f7ec7e4a-3964-4c26-afad-9a3fe1a064dc\")>"
      ]
     },
     "execution_count": 71,
     "metadata": {},
     "output_type": "execute_result"
    }
   ],
   "source": [
    "search_loc=driver.find_element_by_xpath('/html/body/div[1]/div[3]/div[2]/section/div/form/div[2]/div/div/div/div[1]/div[2]/input')\n",
    "search_loc"
   ]
  },
  {
   "cell_type": "code",
   "execution_count": 72,
   "id": "7d736b64",
   "metadata": {},
   "outputs": [],
   "source": [
    "search_loc.send_keys(\"bangalore\")"
   ]
  },
  {
   "cell_type": "code",
   "execution_count": 74,
   "id": "7ea94bf8",
   "metadata": {},
   "outputs": [],
   "source": [
    "search_button=driver.find_element_by_xpath('/html/body/div[1]/div[3]/div[2]/section/div/form/div[3]/button')\n",
    "search_button.click()"
   ]
  },
  {
   "cell_type": "code",
   "execution_count": 75,
   "id": "22bacad1",
   "metadata": {},
   "outputs": [
    {
     "data": {
      "text/plain": [
       "[<selenium.webdriver.remote.webelement.WebElement (session=\"c3aaddb0e625f2b342a8047c2ea3b006\", element=\"7ec30d9d-694b-4517-9824-237fdfb1b767\")>,\n",
       " <selenium.webdriver.remote.webelement.WebElement (session=\"c3aaddb0e625f2b342a8047c2ea3b006\", element=\"bf014ea1-f9da-4db6-8e04-f38aaf4f041b\")>,\n",
       " <selenium.webdriver.remote.webelement.WebElement (session=\"c3aaddb0e625f2b342a8047c2ea3b006\", element=\"1e594a60-7440-41a0-a811-339803b18635\")>,\n",
       " <selenium.webdriver.remote.webelement.WebElement (session=\"c3aaddb0e625f2b342a8047c2ea3b006\", element=\"28d4c7ec-1598-4809-84ee-462e22093a1f\")>,\n",
       " <selenium.webdriver.remote.webelement.WebElement (session=\"c3aaddb0e625f2b342a8047c2ea3b006\", element=\"8bfc9d15-0280-495b-94d6-f5d459f6c372\")>,\n",
       " <selenium.webdriver.remote.webelement.WebElement (session=\"c3aaddb0e625f2b342a8047c2ea3b006\", element=\"312672cb-a6a8-4474-9d82-5aa16b4d5883\")>,\n",
       " <selenium.webdriver.remote.webelement.WebElement (session=\"c3aaddb0e625f2b342a8047c2ea3b006\", element=\"bd530946-4ae5-463c-b23a-d3ddd61faf35\")>,\n",
       " <selenium.webdriver.remote.webelement.WebElement (session=\"c3aaddb0e625f2b342a8047c2ea3b006\", element=\"591aac88-fad6-4076-9659-8c226af35a25\")>,\n",
       " <selenium.webdriver.remote.webelement.WebElement (session=\"c3aaddb0e625f2b342a8047c2ea3b006\", element=\"e509f85c-a919-44e3-b110-f178eac611fd\")>,\n",
       " <selenium.webdriver.remote.webelement.WebElement (session=\"c3aaddb0e625f2b342a8047c2ea3b006\", element=\"65fbb818-ebc2-44c1-877f-2dc269ea8571\")>]"
      ]
     },
     "execution_count": 75,
     "metadata": {},
     "output_type": "execute_result"
    }
   ],
   "source": [
    "title_tags=driver.find_elements_by_xpath('//a[@class=\"title fw500 ellipsis\"]')\n",
    "len(title_tags)\n",
    "title_tags=title_tags[0:10]\n",
    "title_tags"
   ]
  },
  {
   "cell_type": "code",
   "execution_count": 76,
   "id": "cb5d6dd1",
   "metadata": {},
   "outputs": [
    {
     "data": {
      "text/plain": [
       "['Global Tax Automation & Operations | Data Scientist Senior Analyst',\n",
       " 'Lead - Data Analyst / Scientist',\n",
       " 'Data Scientist I',\n",
       " 'Azure ML Data Scientist',\n",
       " 'Senior Data Scientist',\n",
       " 'Senior Data Scientist',\n",
       " 'Openings For Jr/mid/Sr level data Scientists',\n",
       " 'Data Scientist',\n",
       " 'Lead Data Scientist',\n",
       " 'Senior Risk Data Scientist']"
      ]
     },
     "execution_count": 76,
     "metadata": {},
     "output_type": "execute_result"
    }
   ],
   "source": [
    "jobs_title=[]\n",
    "for i in title_tags:\n",
    "    jobs_title.append(i.text)\n",
    "jobs_title"
   ]
  },
  {
   "cell_type": "code",
   "execution_count": 77,
   "id": "6641a8d0",
   "metadata": {},
   "outputs": [
    {
     "data": {
      "text/plain": [
       "['Global Tax Automation & Operations | Data Scientist Senior Analyst',\n",
       " 'Lead - Data Analyst / Scientist',\n",
       " 'Data Scientist I',\n",
       " 'Azure ML Data Scientist',\n",
       " 'Senior Data Scientist',\n",
       " 'Senior Data Scientist',\n",
       " 'Openings For Jr/mid/Sr level data Scientists',\n",
       " 'Data Scientist',\n",
       " 'Lead Data Scientist',\n",
       " 'Senior Risk Data Scientist']"
      ]
     },
     "execution_count": 77,
     "metadata": {},
     "output_type": "execute_result"
    }
   ],
   "source": [
    "company_names=driver.find_elements_by_xpath('//a[@class=\"title fw500 ellipsis\"]')\n",
    "company_name=[]\n",
    "for i in company_names:\n",
    "    company_name.append(i.text)\n",
    "company_name=company_name[0:10]\n",
    "company_name"
   ]
  },
  {
   "cell_type": "code",
   "execution_count": 79,
   "id": "367842a6",
   "metadata": {},
   "outputs": [
    {
     "data": {
      "text/plain": [
       "['Bangalore/Bengaluru',\n",
       " 'Bangalore/Bengaluru',\n",
       " 'Bangalore/Bengaluru',\n",
       " 'Hyderabad/Secunderabad, Bangalore/Bengaluru',\n",
       " 'Gurgaon/Gurugram, Bangalore/Bengaluru, Mumbai (All Areas)',\n",
       " 'Bangalore/Bengaluru',\n",
       " 'Kolkata, Hyderabad/Secunderabad, Pune, Ahmedabad, Chennai, Bangalore/Bengaluru, Delhi / NCR, Mumbai (All Areas)\\n(WFH during Covid)',\n",
       " 'Bangalore/Bengaluru',\n",
       " 'Bangalore/Bengaluru',\n",
       " 'Bangalore/Bengaluru']"
      ]
     },
     "execution_count": 79,
     "metadata": {},
     "output_type": "execute_result"
    }
   ],
   "source": [
    "job_loc=driver.find_elements_by_xpath('//li[@class=\"fleft grey-text br2 placeHolderLi location\"]')\n",
    "loc=[]\n",
    "for i in job_loc:\n",
    "    loc.append(i.text)\n",
    "loc=loc[0:10]\n",
    "loc"
   ]
  },
  {
   "cell_type": "code",
   "execution_count": 83,
   "id": "a4ae363e",
   "metadata": {},
   "outputs": [
    {
     "data": {
      "text/html": [
       "<div>\n",
       "<style scoped>\n",
       "    .dataframe tbody tr th:only-of-type {\n",
       "        vertical-align: middle;\n",
       "    }\n",
       "\n",
       "    .dataframe tbody tr th {\n",
       "        vertical-align: top;\n",
       "    }\n",
       "\n",
       "    .dataframe thead th {\n",
       "        text-align: right;\n",
       "    }\n",
       "</style>\n",
       "<table border=\"1\" class=\"dataframe\">\n",
       "  <thead>\n",
       "    <tr style=\"text-align: right;\">\n",
       "      <th></th>\n",
       "      <th>Job Title</th>\n",
       "      <th>Company Name</th>\n",
       "      <th>Job Location</th>\n",
       "    </tr>\n",
       "  </thead>\n",
       "  <tbody>\n",
       "    <tr>\n",
       "      <th>0</th>\n",
       "      <td>Global Tax Automation &amp; Operations | Data Scie...</td>\n",
       "      <td>Global Tax Automation &amp; Operations | Data Scie...</td>\n",
       "      <td>Bangalore/Bengaluru</td>\n",
       "    </tr>\n",
       "    <tr>\n",
       "      <th>1</th>\n",
       "      <td>Lead - Data Analyst / Scientist</td>\n",
       "      <td>Lead - Data Analyst / Scientist</td>\n",
       "      <td>Bangalore/Bengaluru</td>\n",
       "    </tr>\n",
       "    <tr>\n",
       "      <th>2</th>\n",
       "      <td>Data Scientist I</td>\n",
       "      <td>Data Scientist I</td>\n",
       "      <td>Bangalore/Bengaluru</td>\n",
       "    </tr>\n",
       "    <tr>\n",
       "      <th>3</th>\n",
       "      <td>Azure ML Data Scientist</td>\n",
       "      <td>Azure ML Data Scientist</td>\n",
       "      <td>Hyderabad/Secunderabad, Bangalore/Bengaluru</td>\n",
       "    </tr>\n",
       "    <tr>\n",
       "      <th>4</th>\n",
       "      <td>Senior Data Scientist</td>\n",
       "      <td>Senior Data Scientist</td>\n",
       "      <td>Gurgaon/Gurugram, Bangalore/Bengaluru, Mumbai ...</td>\n",
       "    </tr>\n",
       "    <tr>\n",
       "      <th>5</th>\n",
       "      <td>Senior Data Scientist</td>\n",
       "      <td>Senior Data Scientist</td>\n",
       "      <td>Bangalore/Bengaluru</td>\n",
       "    </tr>\n",
       "    <tr>\n",
       "      <th>6</th>\n",
       "      <td>Openings For Jr/mid/Sr level data Scientists</td>\n",
       "      <td>Openings For Jr/mid/Sr level data Scientists</td>\n",
       "      <td>Kolkata, Hyderabad/Secunderabad, Pune, Ahmedab...</td>\n",
       "    </tr>\n",
       "    <tr>\n",
       "      <th>7</th>\n",
       "      <td>Data Scientist</td>\n",
       "      <td>Data Scientist</td>\n",
       "      <td>Bangalore/Bengaluru</td>\n",
       "    </tr>\n",
       "    <tr>\n",
       "      <th>8</th>\n",
       "      <td>Lead Data Scientist</td>\n",
       "      <td>Lead Data Scientist</td>\n",
       "      <td>Bangalore/Bengaluru</td>\n",
       "    </tr>\n",
       "    <tr>\n",
       "      <th>9</th>\n",
       "      <td>Senior Risk Data Scientist</td>\n",
       "      <td>Senior Risk Data Scientist</td>\n",
       "      <td>Bangalore/Bengaluru</td>\n",
       "    </tr>\n",
       "  </tbody>\n",
       "</table>\n",
       "</div>"
      ],
      "text/plain": [
       "                                           Job Title  \\\n",
       "0  Global Tax Automation & Operations | Data Scie...   \n",
       "1                    Lead - Data Analyst / Scientist   \n",
       "2                                   Data Scientist I   \n",
       "3                            Azure ML Data Scientist   \n",
       "4                              Senior Data Scientist   \n",
       "5                              Senior Data Scientist   \n",
       "6       Openings For Jr/mid/Sr level data Scientists   \n",
       "7                                     Data Scientist   \n",
       "8                                Lead Data Scientist   \n",
       "9                         Senior Risk Data Scientist   \n",
       "\n",
       "                                        Company Name  \\\n",
       "0  Global Tax Automation & Operations | Data Scie...   \n",
       "1                    Lead - Data Analyst / Scientist   \n",
       "2                                   Data Scientist I   \n",
       "3                            Azure ML Data Scientist   \n",
       "4                              Senior Data Scientist   \n",
       "5                              Senior Data Scientist   \n",
       "6       Openings For Jr/mid/Sr level data Scientists   \n",
       "7                                     Data Scientist   \n",
       "8                                Lead Data Scientist   \n",
       "9                         Senior Risk Data Scientist   \n",
       "\n",
       "                                        Job Location  \n",
       "0                                Bangalore/Bengaluru  \n",
       "1                                Bangalore/Bengaluru  \n",
       "2                                Bangalore/Bengaluru  \n",
       "3        Hyderabad/Secunderabad, Bangalore/Bengaluru  \n",
       "4  Gurgaon/Gurugram, Bangalore/Bengaluru, Mumbai ...  \n",
       "5                                Bangalore/Bengaluru  \n",
       "6  Kolkata, Hyderabad/Secunderabad, Pune, Ahmedab...  \n",
       "7                                Bangalore/Bengaluru  \n",
       "8                                Bangalore/Bengaluru  \n",
       "9                                Bangalore/Bengaluru  "
      ]
     },
     "execution_count": 83,
     "metadata": {},
     "output_type": "execute_result"
    }
   ],
   "source": [
    "#dataframe\n",
    "jobs=pd.DataFrame()\n",
    "jobs['Job Title']=jobs_title\n",
    "jobs['Company Name']=company_name\n",
    "jobs['Job Location']=loc\n",
    "jobs"
   ]
  },
  {
   "cell_type": "markdown",
   "id": "182ce6f0",
   "metadata": {},
   "source": [
    "# 3 Python program to scrape the data from naukri.com, The location filter to be used is “Delhi/NCR”. The salary filter to be used is “3-6” lakhs\n"
   ]
  },
  {
   "cell_type": "code",
   "execution_count": 3,
   "id": "cb2c756d",
   "metadata": {},
   "outputs": [],
   "source": [
    "driver=webdriver.Chrome(r'C:\\Users\\Hi\\Downloads\\chromedriver_win32\\chromedriver.exe')"
   ]
  },
  {
   "cell_type": "code",
   "execution_count": 4,
   "id": "94cefca2",
   "metadata": {},
   "outputs": [],
   "source": [
    "url = 'https://www.naukri.com/'\n",
    "driver.get(url)"
   ]
  },
  {
   "cell_type": "code",
   "execution_count": 94,
   "id": "a08212f9",
   "metadata": {},
   "outputs": [],
   "source": [
    "search_job=driver.find_element_by_xpath('/html/body/div[1]/div[3]/div[2]/section/div/form/div[1]/div/div/div/div[1]/div[2]/input')\n",
    "search_job.send_keys(\"Data Scientist\")"
   ]
  },
  {
   "cell_type": "code",
   "execution_count": 95,
   "id": "faf91471",
   "metadata": {},
   "outputs": [],
   "source": [
    "search_loc=driver.find_element_by_xpath('/html/body/div[1]/div[3]/div[2]/section/div/form/div[2]/div/div/div/div[1]/div[2]/input')\n",
    "search_loc.send_keys(\"Delhi/NCR\")"
   ]
  },
  {
   "cell_type": "code",
   "execution_count": 96,
   "id": "f432a234",
   "metadata": {},
   "outputs": [],
   "source": [
    "search_button=driver.find_element_by_xpath('/html/body/div[1]/div[3]/div[2]/section/div/form/div[3]/button')\n",
    "search_button.click()"
   ]
  },
  {
   "cell_type": "code",
   "execution_count": 100,
   "id": "fded994b",
   "metadata": {},
   "outputs": [],
   "source": [
    "sal_check=driver.find_element_by_xpath('/html/body/div[1]/div[3]/div[2]/section[1]/div[2]/div[4]/div[2]/div[2]/label/i')\n",
    "sal_check.click()"
   ]
  },
  {
   "cell_type": "code",
   "execution_count": 102,
   "id": "ccca582f",
   "metadata": {},
   "outputs": [
    {
     "data": {
      "text/plain": [
       "[<selenium.webdriver.remote.webelement.WebElement (session=\"4970f0ae9ee119658ecc22e5918171be\", element=\"f8e7c432-6346-45e5-a1a8-601eb5056c05\")>,\n",
       " <selenium.webdriver.remote.webelement.WebElement (session=\"4970f0ae9ee119658ecc22e5918171be\", element=\"2285cd1e-b840-472c-87f2-18947961073f\")>,\n",
       " <selenium.webdriver.remote.webelement.WebElement (session=\"4970f0ae9ee119658ecc22e5918171be\", element=\"aa418a6b-2d17-4f3c-9e9b-748a883c25fc\")>,\n",
       " <selenium.webdriver.remote.webelement.WebElement (session=\"4970f0ae9ee119658ecc22e5918171be\", element=\"ee82a181-a7b0-4e4e-84f5-2a74d01ebcb8\")>,\n",
       " <selenium.webdriver.remote.webelement.WebElement (session=\"4970f0ae9ee119658ecc22e5918171be\", element=\"e14ad7fd-7f83-4a01-9e72-90fd037f7676\")>,\n",
       " <selenium.webdriver.remote.webelement.WebElement (session=\"4970f0ae9ee119658ecc22e5918171be\", element=\"a0b69761-5af8-46b1-b677-5c1d8f2635c2\")>,\n",
       " <selenium.webdriver.remote.webelement.WebElement (session=\"4970f0ae9ee119658ecc22e5918171be\", element=\"35674f87-3693-43f1-9afb-c5b3b5283f37\")>,\n",
       " <selenium.webdriver.remote.webelement.WebElement (session=\"4970f0ae9ee119658ecc22e5918171be\", element=\"79d369d9-0cab-489c-9752-a698144695ee\")>,\n",
       " <selenium.webdriver.remote.webelement.WebElement (session=\"4970f0ae9ee119658ecc22e5918171be\", element=\"ff5d1f96-5c0c-46b1-9314-616f351a6148\")>,\n",
       " <selenium.webdriver.remote.webelement.WebElement (session=\"4970f0ae9ee119658ecc22e5918171be\", element=\"4595ea86-4f24-4e75-9296-3d56f4fd2c41\")>]"
      ]
     },
     "execution_count": 102,
     "metadata": {},
     "output_type": "execute_result"
    }
   ],
   "source": [
    "title_tags=driver.find_elements_by_xpath('//a[@class=\"title fw500 ellipsis\"]')\n",
    "len(title_tags)\n",
    "title_tags=title_tags[0:10]\n",
    "title_tags"
   ]
  },
  {
   "cell_type": "code",
   "execution_count": 103,
   "id": "3d8000cb",
   "metadata": {},
   "outputs": [
    {
     "data": {
      "text/plain": [
       "['Senior Data Scientist I',\n",
       " 'Openings For Jr/mid/Sr level data Scientists',\n",
       " 'Urgent Hiring For Data Scientist',\n",
       " 'Urgent Hiring For Data Scientist',\n",
       " 'Data Scientist',\n",
       " 'Data Scientist role',\n",
       " 'Data Scientist role',\n",
       " 'Data Analyst / Data Scientist / Business Analytics / Fresher - MNC',\n",
       " 'Data Scientist - DARPG, New Delhi',\n",
       " 'Data Scientist Internship']"
      ]
     },
     "execution_count": 103,
     "metadata": {},
     "output_type": "execute_result"
    }
   ],
   "source": [
    "jobs_title=[]\n",
    "for i in title_tags:\n",
    "    jobs_title.append(i.text)\n",
    "jobs_title"
   ]
  },
  {
   "cell_type": "code",
   "execution_count": 104,
   "id": "ed17003c",
   "metadata": {},
   "outputs": [
    {
     "data": {
      "text/plain": [
       "['Delhivery',\n",
       " 'Pluto seven business solutions (p) limited',\n",
       " 'Mount Talent Consulting Private Limited',\n",
       " 'Mount Talent Consulting Private Limited',\n",
       " 'Teleperformance',\n",
       " 'Mount Talent Consulting Private Limited',\n",
       " 'Mount Talent Consulting Private Limited',\n",
       " 'GABA Consultancy services',\n",
       " 'NISG (National Institute for Smart Government)',\n",
       " 'iHackers Inc']"
      ]
     },
     "execution_count": 104,
     "metadata": {},
     "output_type": "execute_result"
    }
   ],
   "source": [
    "company_names=driver.find_elements_by_xpath('//a[@class=\"subTitle ellipsis fleft\"]')\n",
    "company_name=[]\n",
    "for i in company_names:\n",
    "    company_name.append(i.text)\n",
    "company_name=company_name[0:10]\n",
    "company_name"
   ]
  },
  {
   "cell_type": "code",
   "execution_count": 105,
   "id": "175ddc69",
   "metadata": {},
   "outputs": [
    {
     "data": {
      "text/plain": [
       "['3-7 Yrs',\n",
       " '2-6 Yrs',\n",
       " '1-6 Yrs',\n",
       " '1-6 Yrs',\n",
       " '4-9 Yrs',\n",
       " '1-3 Yrs',\n",
       " '1-3 Yrs',\n",
       " '0-0 Yrs',\n",
       " '3-8 Yrs',\n",
       " '0-1 Yrs']"
      ]
     },
     "execution_count": 105,
     "metadata": {},
     "output_type": "execute_result"
    }
   ],
   "source": [
    "company_exp=driver.find_elements_by_xpath('//li[@class=\"fleft grey-text br2 placeHolderLi experience\"]')\n",
    "exp_required=[]\n",
    "for i in company_exp:\n",
    "    exp_required.append(i.text)\n",
    "exp_required=exp_required[0:10]\n",
    "exp_required"
   ]
  },
  {
   "cell_type": "code",
   "execution_count": 106,
   "id": "30db76f5",
   "metadata": {},
   "outputs": [
    {
     "data": {
      "text/plain": [
       "['Gurgaon/Gurugram',\n",
       " 'Kolkata, Hyderabad/Secunderabad, Pune, Ahmedabad, Chennai, Bangalore/Bengaluru, Delhi / NCR, Mumbai (All Areas)\\n(WFH during Covid)',\n",
       " 'Gurgaon/Gurugram, Bangalore/Bengaluru',\n",
       " 'Gurgaon/Gurugram, Bangalore/Bengaluru',\n",
       " 'Gurgaon/Gurugram, Chennai',\n",
       " 'Noida, Hyderabad/Secunderabad, Pune, Gurgaon/Gurugram, Bangalore/Bengaluru, Delhi / NCR\\n(WFH during Covid)',\n",
       " 'Noida, Hyderabad/Secunderabad, Pune, Gurgaon/Gurugram, Bangalore/Bengaluru, Delhi / NCR\\n(WFH during Covid)',\n",
       " 'Noida, New Delhi, Delhi / NCR',\n",
       " 'Delhi / NCR',\n",
       " 'New Delhi']"
      ]
     },
     "execution_count": 106,
     "metadata": {},
     "output_type": "execute_result"
    }
   ],
   "source": [
    "job_loc=driver.find_elements_by_xpath('//li[@class=\"fleft grey-text br2 placeHolderLi location\"]')\n",
    "loc=[]\n",
    "for i in job_loc:\n",
    "    loc.append(i.text)\n",
    "loc=loc[0:10]\n",
    "loc"
   ]
  },
  {
   "cell_type": "code",
   "execution_count": 107,
   "id": "8f892f8e",
   "metadata": {},
   "outputs": [
    {
     "data": {
      "text/html": [
       "<div>\n",
       "<style scoped>\n",
       "    .dataframe tbody tr th:only-of-type {\n",
       "        vertical-align: middle;\n",
       "    }\n",
       "\n",
       "    .dataframe tbody tr th {\n",
       "        vertical-align: top;\n",
       "    }\n",
       "\n",
       "    .dataframe thead th {\n",
       "        text-align: right;\n",
       "    }\n",
       "</style>\n",
       "<table border=\"1\" class=\"dataframe\">\n",
       "  <thead>\n",
       "    <tr style=\"text-align: right;\">\n",
       "      <th></th>\n",
       "      <th>Title</th>\n",
       "      <th>Company</th>\n",
       "      <th>Experiance</th>\n",
       "      <th>Location</th>\n",
       "    </tr>\n",
       "  </thead>\n",
       "  <tbody>\n",
       "    <tr>\n",
       "      <th>0</th>\n",
       "      <td>Senior Data Scientist I</td>\n",
       "      <td>Delhivery</td>\n",
       "      <td>3-7 Yrs</td>\n",
       "      <td>Gurgaon/Gurugram</td>\n",
       "    </tr>\n",
       "    <tr>\n",
       "      <th>1</th>\n",
       "      <td>Openings For Jr/mid/Sr level data Scientists</td>\n",
       "      <td>Pluto seven business solutions (p) limited</td>\n",
       "      <td>2-6 Yrs</td>\n",
       "      <td>Kolkata, Hyderabad/Secunderabad, Pune, Ahmedab...</td>\n",
       "    </tr>\n",
       "    <tr>\n",
       "      <th>2</th>\n",
       "      <td>Urgent Hiring For Data Scientist</td>\n",
       "      <td>Mount Talent Consulting Private Limited</td>\n",
       "      <td>1-6 Yrs</td>\n",
       "      <td>Gurgaon/Gurugram, Bangalore/Bengaluru</td>\n",
       "    </tr>\n",
       "    <tr>\n",
       "      <th>3</th>\n",
       "      <td>Urgent Hiring For Data Scientist</td>\n",
       "      <td>Mount Talent Consulting Private Limited</td>\n",
       "      <td>1-6 Yrs</td>\n",
       "      <td>Gurgaon/Gurugram, Bangalore/Bengaluru</td>\n",
       "    </tr>\n",
       "    <tr>\n",
       "      <th>4</th>\n",
       "      <td>Data Scientist</td>\n",
       "      <td>Teleperformance</td>\n",
       "      <td>4-9 Yrs</td>\n",
       "      <td>Gurgaon/Gurugram, Chennai</td>\n",
       "    </tr>\n",
       "    <tr>\n",
       "      <th>5</th>\n",
       "      <td>Data Scientist role</td>\n",
       "      <td>Mount Talent Consulting Private Limited</td>\n",
       "      <td>1-3 Yrs</td>\n",
       "      <td>Noida, Hyderabad/Secunderabad, Pune, Gurgaon/G...</td>\n",
       "    </tr>\n",
       "    <tr>\n",
       "      <th>6</th>\n",
       "      <td>Data Scientist role</td>\n",
       "      <td>Mount Talent Consulting Private Limited</td>\n",
       "      <td>1-3 Yrs</td>\n",
       "      <td>Noida, Hyderabad/Secunderabad, Pune, Gurgaon/G...</td>\n",
       "    </tr>\n",
       "    <tr>\n",
       "      <th>7</th>\n",
       "      <td>Data Analyst / Data Scientist / Business Analy...</td>\n",
       "      <td>GABA Consultancy services</td>\n",
       "      <td>0-0 Yrs</td>\n",
       "      <td>Noida, New Delhi, Delhi / NCR</td>\n",
       "    </tr>\n",
       "    <tr>\n",
       "      <th>8</th>\n",
       "      <td>Data Scientist - DARPG, New Delhi</td>\n",
       "      <td>NISG (National Institute for Smart Government)</td>\n",
       "      <td>3-8 Yrs</td>\n",
       "      <td>Delhi / NCR</td>\n",
       "    </tr>\n",
       "    <tr>\n",
       "      <th>9</th>\n",
       "      <td>Data Scientist Internship</td>\n",
       "      <td>iHackers Inc</td>\n",
       "      <td>0-1 Yrs</td>\n",
       "      <td>New Delhi</td>\n",
       "    </tr>\n",
       "  </tbody>\n",
       "</table>\n",
       "</div>"
      ],
      "text/plain": [
       "                                               Title  \\\n",
       "0                            Senior Data Scientist I   \n",
       "1       Openings For Jr/mid/Sr level data Scientists   \n",
       "2                   Urgent Hiring For Data Scientist   \n",
       "3                   Urgent Hiring For Data Scientist   \n",
       "4                                     Data Scientist   \n",
       "5                                Data Scientist role   \n",
       "6                                Data Scientist role   \n",
       "7  Data Analyst / Data Scientist / Business Analy...   \n",
       "8                  Data Scientist - DARPG, New Delhi   \n",
       "9                          Data Scientist Internship   \n",
       "\n",
       "                                          Company Experiance  \\\n",
       "0                                       Delhivery    3-7 Yrs   \n",
       "1      Pluto seven business solutions (p) limited    2-6 Yrs   \n",
       "2         Mount Talent Consulting Private Limited    1-6 Yrs   \n",
       "3         Mount Talent Consulting Private Limited    1-6 Yrs   \n",
       "4                                 Teleperformance    4-9 Yrs   \n",
       "5         Mount Talent Consulting Private Limited    1-3 Yrs   \n",
       "6         Mount Talent Consulting Private Limited    1-3 Yrs   \n",
       "7                       GABA Consultancy services    0-0 Yrs   \n",
       "8  NISG (National Institute for Smart Government)    3-8 Yrs   \n",
       "9                                    iHackers Inc    0-1 Yrs   \n",
       "\n",
       "                                            Location  \n",
       "0                                   Gurgaon/Gurugram  \n",
       "1  Kolkata, Hyderabad/Secunderabad, Pune, Ahmedab...  \n",
       "2              Gurgaon/Gurugram, Bangalore/Bengaluru  \n",
       "3              Gurgaon/Gurugram, Bangalore/Bengaluru  \n",
       "4                          Gurgaon/Gurugram, Chennai  \n",
       "5  Noida, Hyderabad/Secunderabad, Pune, Gurgaon/G...  \n",
       "6  Noida, Hyderabad/Secunderabad, Pune, Gurgaon/G...  \n",
       "7                      Noida, New Delhi, Delhi / NCR  \n",
       "8                                        Delhi / NCR  \n",
       "9                                          New Delhi  "
      ]
     },
     "execution_count": 107,
     "metadata": {},
     "output_type": "execute_result"
    }
   ],
   "source": [
    "#dataframe\n",
    "jobs=pd.DataFrame()\n",
    "jobs['Title']=jobs_title\n",
    "jobs['Company']=company_name\n",
    "jobs['Experiance']=exp_required\n",
    "jobs['Location']=loc\n",
    "jobs"
   ]
  },
  {
   "cell_type": "markdown",
   "id": "f25b2b5b",
   "metadata": {},
   "source": [
    "# 4.Scrape data of first 100 sunglasses listings on flipkart.com"
   ]
  },
  {
   "cell_type": "code",
   "execution_count": 108,
   "id": "e178f245",
   "metadata": {},
   "outputs": [],
   "source": [
    "driver=webdriver.Chrome(r'C:\\Users\\Hi\\Downloads\\chromedriver_win32\\chromedriver.exe')"
   ]
  },
  {
   "cell_type": "code",
   "execution_count": 109,
   "id": "ca3f820d",
   "metadata": {},
   "outputs": [],
   "source": [
    "url = 'https://www.flipkart.com/'\n",
    "driver.get(url)"
   ]
  },
  {
   "cell_type": "code",
   "execution_count": 112,
   "id": "0492ff31",
   "metadata": {},
   "outputs": [],
   "source": [
    "search_sunglasses=driver.find_element_by_xpath('/html/body/div[1]/div/div[1]/div[1]/div[2]/div[2]/form/div/div/input')\n",
    "search_sunglasses.send_keys(\"sunglasses\")"
   ]
  },
  {
   "cell_type": "code",
   "execution_count": 113,
   "id": "104e354b",
   "metadata": {},
   "outputs": [],
   "source": [
    "search_button=driver.find_element_by_xpath('/html/body/div[1]/div/div[1]/div[1]/div[2]/div[2]/form/div/button')\n",
    "search_button.click()"
   ]
  },
  {
   "cell_type": "code",
   "execution_count": 115,
   "id": "279fa52d",
   "metadata": {},
   "outputs": [
    {
     "data": {
      "text/plain": [
       "['SRPM',\n",
       " 'Elligator',\n",
       " 'kingsunglasses',\n",
       " 'Fastrack',\n",
       " 'PIRASO',\n",
       " 'kingsunglasses',\n",
       " 'New Specs',\n",
       " 'Fastrack',\n",
       " 'SUNBEE',\n",
       " 'SHAAH COLLECTIONS',\n",
       " 'PIRASO',\n",
       " 'PIRASO',\n",
       " 'Johaena',\n",
       " 'PIRASO',\n",
       " 'New Specs',\n",
       " 'Rich Club',\n",
       " 'ROZZETTA CRAFT',\n",
       " 'ROZZETTA CRAFT',\n",
       " 'SHAAH COLLECTIONS',\n",
       " 'PHENOMENAL',\n",
       " 'ROYAL SON',\n",
       " 'kingsunglasses',\n",
       " 'PHENOMENAL',\n",
       " 'PHENOMENAL',\n",
       " 'Rich Club',\n",
       " 'Elligator',\n",
       " 'maxa',\n",
       " 'Lee Topper',\n",
       " 'Fastrack',\n",
       " 'agera',\n",
       " 'DEIXELS',\n",
       " 'New Specs',\n",
       " 'Rich Club',\n",
       " 'Fastrack',\n",
       " 'hipe',\n",
       " 'PIRASO',\n",
       " 'Fastrack',\n",
       " 'ROZZETTA CRAFT',\n",
       " 'Silver Kartz',\n",
       " 'kingsunglasses']"
      ]
     },
     "execution_count": 115,
     "metadata": {},
     "output_type": "execute_result"
    }
   ],
   "source": [
    "product_brand=driver.find_elements_by_xpath('//div[@class=\"_2WkVRV\"]')\n",
    "brand_name=[]\n",
    "for i in product_brand:\n",
    "    brand_name.append(i.text)\n",
    "brand_name"
   ]
  },
  {
   "cell_type": "code",
   "execution_count": 116,
   "id": "cb553f24",
   "metadata": {},
   "outputs": [
    {
     "data": {
      "text/plain": [
       "['UV Protection Wayfarer Sunglasses (56)',\n",
       " 'UV Protection Round Sunglasses (54)',\n",
       " 'UV Protection Round Sunglasses (54)',\n",
       " 'Gradient, UV Protection Wayfarer Sunglasses (Free Size)',\n",
       " 'UV Protection Aviator Sunglasses (54)',\n",
       " 'Mirrored, UV Protection Wayfarer Sunglasses (53)',\n",
       " 'UV Protection Rectangular Sunglasses (Free Size)',\n",
       " 'UV Protection Wayfarer Sunglasses (Free Size)',\n",
       " 'UV Protection, Polarized, Mirrored Round Sunglasses (Fr...',\n",
       " 'UV Protection, Polarized, Mirrored Rectangular Sunglass...',\n",
       " 'UV Protection Aviator Sunglasses (54)',\n",
       " 'UV Protection Wayfarer Sunglasses (32)',\n",
       " 'Riding Glasses, UV Protection Oval Sunglasses (48)',\n",
       " 'UV Protection Aviator Sunglasses (54)',\n",
       " 'Mirrored, UV Protection, Riding Glasses, Others Round S...',\n",
       " 'Polarized Round Sunglasses (48)',\n",
       " 'UV Protection, Gradient Rectangular Sunglasses (Free Si...',\n",
       " 'UV Protection Retro Square Sunglasses (Free Size)',\n",
       " 'UV Protection, Polarized, Mirrored Rectangular Sunglass...',\n",
       " 'UV Protection, Mirrored Retro Square Sunglasses (53)',\n",
       " 'Mirrored Aviator Sunglasses (55)',\n",
       " 'UV Protection, Night Vision Wayfarer Sunglasses (Free S...',\n",
       " 'UV Protection Retro Square Sunglasses (Free Size)',\n",
       " 'UV Protection, Mirrored Clubmaster Sunglasses (Free Siz...',\n",
       " 'Polarized Round Sunglasses (48)',\n",
       " 'UV Protection Round, Oval Sunglasses (54)',\n",
       " 'UV Protection, Riding Glasses Rectangular, Wayfarer, Ov...',\n",
       " 'Riding Glasses, Night Vision Wrap-around Sunglasses (Fr...',\n",
       " 'UV Protection Aviator Sunglasses (Free Size)',\n",
       " 'Gradient Aviator Sunglasses (55)',\n",
       " 'UV Protection Aviator, Wayfarer Sunglasses (Free Size)',\n",
       " 'UV Protection Rectangular Sunglasses (Free Size)',\n",
       " 'UV Protection Round Sunglasses (50)',\n",
       " 'UV Protection Wayfarer Sunglasses (Free Size)',\n",
       " 'UV Protection, Gradient, Mirrored, Riding Glasses Aviat...',\n",
       " 'UV Protection Aviator Sunglasses (58)',\n",
       " 'UV Protection Shield Sunglasses (Free Size)',\n",
       " 'UV Protection, Gradient Round Sunglasses (Free Size)',\n",
       " 'UV Protection Wayfarer Sunglasses (Free Size)',\n",
       " 'UV Protection, Riding Glasses, Mirrored Wayfarer Sungla...']"
      ]
     },
     "execution_count": 116,
     "metadata": {},
     "output_type": "execute_result"
    }
   ],
   "source": [
    "product_dis=driver.find_elements_by_xpath('//a[@class=\"IRpwTa\"]')\n",
    "product_discription=[]\n",
    "for i in product_dis:\n",
    "    product_discription.append(i.text)\n",
    "product_discription"
   ]
  },
  {
   "cell_type": "code",
   "execution_count": 117,
   "id": "787b89f4",
   "metadata": {},
   "outputs": [
    {
     "data": {
      "text/plain": [
       "['₹188',\n",
       " '₹248',\n",
       " '₹188',\n",
       " '₹479',\n",
       " '₹200',\n",
       " '₹274',\n",
       " '₹259',\n",
       " '₹758',\n",
       " '₹261',\n",
       " '₹156',\n",
       " '₹187',\n",
       " '₹187',\n",
       " '₹156',\n",
       " '₹187',\n",
       " '₹262',\n",
       " '₹165',\n",
       " '₹383',\n",
       " '₹474',\n",
       " '₹179',\n",
       " '₹299',\n",
       " '₹359',\n",
       " '₹273',\n",
       " '₹309',\n",
       " '₹287',\n",
       " '₹163',\n",
       " '₹266',\n",
       " '₹149',\n",
       " '₹276',\n",
       " '₹639',\n",
       " '₹196',\n",
       " '₹229',\n",
       " '₹169',\n",
       " '₹355',\n",
       " '₹799',\n",
       " '₹209',\n",
       " '₹299',\n",
       " '₹769',\n",
       " '₹360',\n",
       " '₹246',\n",
       " '₹187']"
      ]
     },
     "execution_count": 117,
     "metadata": {},
     "output_type": "execute_result"
    }
   ],
   "source": [
    "product_price=driver.find_elements_by_xpath('//div[@class=\"_30jeq3\"]')\n",
    "product_amount=[]\n",
    "for i in product_price:\n",
    "    product_amount.append(i.text)\n",
    "product_amount"
   ]
  },
  {
   "cell_type": "code",
   "execution_count": 124,
   "id": "331e467c",
   "metadata": {},
   "outputs": [],
   "source": [
    "next_page=driver.find_element_by_xpath('/html/body/div[1]/div/div[3]/div[1]/div[2]/div[12]/div/div/nav/a[11]')\n",
    "next_page.click()"
   ]
  },
  {
   "cell_type": "code",
   "execution_count": 127,
   "id": "05342556",
   "metadata": {},
   "outputs": [
    {
     "data": {
      "text/plain": [
       "['Fastrack',\n",
       " 'kingsunglasses',\n",
       " 'ROYAL SON',\n",
       " 'PIRASO',\n",
       " 'PHENOMENAL',\n",
       " 'ROYAL SON',\n",
       " 'hipe',\n",
       " 'Lee Topper',\n",
       " 'Elligator',\n",
       " 'kingsunglasses',\n",
       " 'GANSTA',\n",
       " 'ROZZETTA CRAFT',\n",
       " 'hipe',\n",
       " 'Fastrack',\n",
       " 'Elligator',\n",
       " 'ROYAL SON',\n",
       " 'New Specs',\n",
       " 'kingsunglasses',\n",
       " 'kingsunglasses',\n",
       " 'ROZZETTA CRAFT',\n",
       " 'kingsunglasses',\n",
       " 'Elligator',\n",
       " 'PIRASO',\n",
       " 'PIRASO',\n",
       " 'Fastrack',\n",
       " 'SUNBEE',\n",
       " 'ROZZETTA CRAFT',\n",
       " 'Singco India',\n",
       " 'IDEE',\n",
       " 'PHENOMENAL',\n",
       " 'Fastrack',\n",
       " 'Fastrack',\n",
       " 'ROYAL SON',\n",
       " 'ROYAL SON',\n",
       " 'AISLIN',\n",
       " 'PIRASO',\n",
       " 'SHAAH COLLECTIONS',\n",
       " 'SRPM',\n",
       " 'Flizz',\n",
       " 'ROYAL SON']"
      ]
     },
     "execution_count": 127,
     "metadata": {},
     "output_type": "execute_result"
    }
   ],
   "source": [
    "product_brand=driver.find_elements_by_xpath('//div[@class=\"_2WkVRV\"]')\n",
    "brand_name1=[]\n",
    "for i in product_brand:\n",
    "    brand_name1.append(i.text)\n",
    "brand_name1"
   ]
  },
  {
   "cell_type": "code",
   "execution_count": 128,
   "id": "b43bad53",
   "metadata": {},
   "outputs": [
    {
     "data": {
      "text/plain": [
       "['UV Protection Wayfarer Sunglasses (Free Size)',\n",
       " 'UV Protection, Others Round, Round Sunglasses (54)',\n",
       " 'UV Protection Rectangular Sunglasses (58)',\n",
       " 'UV Protection Aviator Sunglasses (Free Size)',\n",
       " 'UV Protection, Mirrored Retro Square Sunglasses (53)',\n",
       " 'Mirrored Aviator Sunglasses (55)',\n",
       " 'Mirrored, Gradient, UV Protection Aviator Sunglasses (5...',\n",
       " 'UV Protection, Riding Glasses Retro Square, Spectacle ...',\n",
       " 'UV Protection Round Sunglasses (54)',\n",
       " 'UV Protection Rectangular Sunglasses (Free Size)',\n",
       " 'UV Protection, Riding Glasses Wayfarer Sunglasses (53)',\n",
       " 'UV Protection, Gradient Retro Square Sunglasses (Free S...',\n",
       " 'Mirrored, Gradient, Riding Glasses Round Sunglasses (55...',\n",
       " 'UV Protection Aviator Sunglasses (58)',\n",
       " 'UV Protection Retro Square, Round Sunglasses (54)',\n",
       " 'Mirrored Aviator Sunglasses (Free Size)',\n",
       " 'UV Protection Rectangular Sunglasses (Free Size)',\n",
       " 'Mirrored, UV Protection Wayfarer Sunglasses (Free Size)',\n",
       " 'UV Protection, Mirrored Aviator Sunglasses (Free Size)',\n",
       " 'UV Protection Round Sunglasses (Free Size)',\n",
       " 'Mirrored, UV Protection Aviator Sunglasses (56)',\n",
       " 'UV Protection Round Sunglasses (55)',\n",
       " 'UV Protection Aviator Sunglasses (58)',\n",
       " 'UV Protection Butterfly Sunglasses (65)',\n",
       " 'UV Protection Wayfarer Sunglasses (Free Size)',\n",
       " 'UV Protection, Polarized Wayfarer Sunglasses (Free Size...',\n",
       " 'UV Protection, Riding Glasses Rectangular Sunglasses (F...',\n",
       " 'Riding Glasses, UV Protection, Others Aviator Sunglasse...',\n",
       " 'Mirrored, UV Protection Wayfarer Sunglasses (18)',\n",
       " 'UV Protection Retro Square Sunglasses (Free Size)',\n",
       " 'Gradient, UV Protection Wayfarer Sunglasses (Free Size)',\n",
       " 'UV Protection Aviator Sunglasses (Free Size)',\n",
       " 'UV Protection Retro Square Sunglasses (58)',\n",
       " 'Mirrored Aviator Sunglasses (58)',\n",
       " 'UV Protection, Gradient Butterfly, Retro Square Sunglas...',\n",
       " 'UV Protection Aviator Sunglasses (55)',\n",
       " 'UV Protection Round Sunglasses (Free Size)',\n",
       " 'UV Protection Wayfarer Sunglasses (53)',\n",
       " 'UV Protection, Polarized Rectangular Sunglasses (Free S...',\n",
       " 'Mirrored Aviator Sunglasses (55)']"
      ]
     },
     "execution_count": 128,
     "metadata": {},
     "output_type": "execute_result"
    }
   ],
   "source": [
    "product_dis=driver.find_elements_by_xpath('//a[@class=\"IRpwTa\"]')\n",
    "product_discription1=[]\n",
    "for i in product_dis:\n",
    "    product_discription1.append(i.text)\n",
    "product_discription1"
   ]
  },
  {
   "cell_type": "code",
   "execution_count": 129,
   "id": "93a46464",
   "metadata": {},
   "outputs": [
    {
     "data": {
      "text/plain": [
       "['₹799',\n",
       " '₹192',\n",
       " '₹449',\n",
       " '₹261',\n",
       " '₹299',\n",
       " '₹359',\n",
       " '₹178',\n",
       " '₹375',\n",
       " '₹265',\n",
       " '₹192',\n",
       " '₹209',\n",
       " '₹349',\n",
       " '₹189',\n",
       " '₹1,085',\n",
       " '₹291',\n",
       " '₹359',\n",
       " '₹187',\n",
       " '₹258',\n",
       " '₹235',\n",
       " '₹426',\n",
       " '₹211',\n",
       " '₹239',\n",
       " '₹299',\n",
       " '₹349',\n",
       " '₹759',\n",
       " '₹243',\n",
       " '₹426',\n",
       " '₹201',\n",
       " '₹1,049',\n",
       " '₹309',\n",
       " '₹652',\n",
       " '₹615',\n",
       " '₹449',\n",
       " '₹359',\n",
       " '₹430',\n",
       " '₹225',\n",
       " '₹270',\n",
       " '₹207',\n",
       " '₹244',\n",
       " '₹359']"
      ]
     },
     "execution_count": 129,
     "metadata": {},
     "output_type": "execute_result"
    }
   ],
   "source": [
    "product_price=driver.find_elements_by_xpath('//div[@class=\"_30jeq3\"]')\n",
    "product_amount1=[]\n",
    "for i in product_price:\n",
    "    product_amount1.append(i.text)\n",
    "product_amount1"
   ]
  },
  {
   "cell_type": "code",
   "execution_count": 130,
   "id": "1ba75cdc",
   "metadata": {},
   "outputs": [],
   "source": [
    "next_page=driver.find_element_by_xpath('/html/body/div[1]/div/div[3]/div[1]/div[2]/div[12]/div/div/nav/a[11]')\n",
    "next_page.click()"
   ]
  },
  {
   "cell_type": "code",
   "execution_count": 132,
   "id": "dbe41485",
   "metadata": {},
   "outputs": [
    {
     "data": {
      "text/plain": [
       "['hipe',\n",
       " 'ROYAL SON',\n",
       " 'ROYAL SON',\n",
       " 'elegante',\n",
       " 'NuVew',\n",
       " 'Elligator',\n",
       " 'NuVew',\n",
       " 'Fastrack',\n",
       " 'Urbanic',\n",
       " 'Fastrack',\n",
       " 'United Colors of Benetton',\n",
       " 'AISLIN',\n",
       " 'IDEE',\n",
       " 'GANSTA',\n",
       " 'PETER JONES',\n",
       " 'United Colors of Benetton',\n",
       " 'ROYAL SON',\n",
       " 'GANSTA',\n",
       " 'WROGN',\n",
       " 'United Colors of Benetton']"
      ]
     },
     "execution_count": 132,
     "metadata": {},
     "output_type": "execute_result"
    }
   ],
   "source": [
    "product_brand=driver.find_elements_by_xpath('//div[@class=\"_2WkVRV\"]')\n",
    "brand_name2=[]\n",
    "for i in product_brand:\n",
    "    brand_name2.append(i.text)\n",
    "brand_name2=brand_name2[0:20]\n",
    "brand_name2"
   ]
  },
  {
   "cell_type": "code",
   "execution_count": 133,
   "id": "69398f76",
   "metadata": {},
   "outputs": [
    {
     "data": {
      "text/plain": [
       "['UV Protection Round Sunglasses (Free Size)',\n",
       " 'UV Protection, Polarized, Mirrored Wayfarer Sunglasses ...',\n",
       " 'Polarized, UV Protection Aviator Sunglasses (58)',\n",
       " 'UV Protection Retro Square Sunglasses (Free Size)',\n",
       " 'UV Protection, Mirrored, Night Vision, Riding Glasses S...',\n",
       " 'UV Protection, Riding Glasses Rectangular, Retro Square...',\n",
       " 'UV Protection, Night Vision, Riding Glasses Retro Squar...',\n",
       " 'Others Retro Square Sunglasses (Free Size)',\n",
       " 'UV Protection Aviator Sunglasses (Free Size)',\n",
       " 'Mirrored, UV Protection Round Sunglasses (50)',\n",
       " 'UV Protection, Gradient Cat-eye, Wayfarer Sunglasses (6...',\n",
       " 'UV Protection Cat-eye Sunglasses (17)',\n",
       " 'UV Protection, Riding Glasses Wayfarer Sunglasses (53)',\n",
       " 'Night Vision, Riding Glasses, UV Protection Wrap-around...',\n",
       " 'Gradient, Mirrored, UV Protection Aviator Sunglasses (5...',\n",
       " 'Mirrored Aviator Sunglasses (Free Size)',\n",
       " 'UV Protection Aviator Sunglasses (57)',\n",
       " 'UV Protection Aviator Sunglasses (59)',\n",
       " 'Mirrored Aviator Sunglasses (56)',\n",
       " 'Toughened Glass Lens, UV Protection Rectangular, Wayfar...']"
      ]
     },
     "execution_count": 133,
     "metadata": {},
     "output_type": "execute_result"
    }
   ],
   "source": [
    "product_dis=driver.find_elements_by_xpath('//a[@class=\"IRpwTa\"]')\n",
    "product_discription2=[]\n",
    "for i in product_dis:\n",
    "    product_discription2.append(i.text)\n",
    "product_discription2=product_discription2[0:20]\n",
    "product_discription2"
   ]
  },
  {
   "cell_type": "code",
   "execution_count": 134,
   "id": "d63061e6",
   "metadata": {},
   "outputs": [
    {
     "data": {
      "text/plain": [
       "['₹179',\n",
       " '₹699',\n",
       " '₹711',\n",
       " '₹349',\n",
       " '₹327',\n",
       " '₹305',\n",
       " '₹222',\n",
       " '₹2,159',\n",
       " '₹607',\n",
       " '₹759',\n",
       " '₹1,009',\n",
       " '₹698',\n",
       " '₹1,149',\n",
       " '₹249',\n",
       " '₹467',\n",
       " '₹989',\n",
       " '₹359',\n",
       " '₹261',\n",
       " '₹759',\n",
       " '₹1,029']"
      ]
     },
     "execution_count": 134,
     "metadata": {},
     "output_type": "execute_result"
    }
   ],
   "source": [
    "product_price=driver.find_elements_by_xpath('//div[@class=\"_30jeq3\"]')\n",
    "product_amount2=[]\n",
    "for i in product_price:\n",
    "    product_amount2.append(i.text)\n",
    "product_amount2=product_amount2[0:20]\n",
    "product_amount2"
   ]
  },
  {
   "cell_type": "code",
   "execution_count": 136,
   "id": "a0e3b46b",
   "metadata": {},
   "outputs": [
    {
     "data": {
      "text/html": [
       "<div>\n",
       "<style scoped>\n",
       "    .dataframe tbody tr th:only-of-type {\n",
       "        vertical-align: middle;\n",
       "    }\n",
       "\n",
       "    .dataframe tbody tr th {\n",
       "        vertical-align: top;\n",
       "    }\n",
       "\n",
       "    .dataframe thead th {\n",
       "        text-align: right;\n",
       "    }\n",
       "</style>\n",
       "<table border=\"1\" class=\"dataframe\">\n",
       "  <thead>\n",
       "    <tr style=\"text-align: right;\">\n",
       "      <th></th>\n",
       "      <th>Brand</th>\n",
       "      <th>Product Discription</th>\n",
       "      <th>Price</th>\n",
       "    </tr>\n",
       "  </thead>\n",
       "  <tbody>\n",
       "    <tr>\n",
       "      <th>0</th>\n",
       "      <td>SRPM</td>\n",
       "      <td>UV Protection Wayfarer Sunglasses (56)</td>\n",
       "      <td>₹188</td>\n",
       "    </tr>\n",
       "    <tr>\n",
       "      <th>1</th>\n",
       "      <td>Elligator</td>\n",
       "      <td>UV Protection Round Sunglasses (54)</td>\n",
       "      <td>₹248</td>\n",
       "    </tr>\n",
       "    <tr>\n",
       "      <th>2</th>\n",
       "      <td>kingsunglasses</td>\n",
       "      <td>UV Protection Round Sunglasses (54)</td>\n",
       "      <td>₹188</td>\n",
       "    </tr>\n",
       "    <tr>\n",
       "      <th>3</th>\n",
       "      <td>Fastrack</td>\n",
       "      <td>Gradient, UV Protection Wayfarer Sunglasses (F...</td>\n",
       "      <td>₹479</td>\n",
       "    </tr>\n",
       "    <tr>\n",
       "      <th>4</th>\n",
       "      <td>PIRASO</td>\n",
       "      <td>UV Protection Aviator Sunglasses (54)</td>\n",
       "      <td>₹200</td>\n",
       "    </tr>\n",
       "    <tr>\n",
       "      <th>...</th>\n",
       "      <td>...</td>\n",
       "      <td>...</td>\n",
       "      <td>...</td>\n",
       "    </tr>\n",
       "    <tr>\n",
       "      <th>95</th>\n",
       "      <td>United Colors of Benetton</td>\n",
       "      <td>Mirrored Aviator Sunglasses (Free Size)</td>\n",
       "      <td>₹989</td>\n",
       "    </tr>\n",
       "    <tr>\n",
       "      <th>96</th>\n",
       "      <td>ROYAL SON</td>\n",
       "      <td>UV Protection Aviator Sunglasses (57)</td>\n",
       "      <td>₹359</td>\n",
       "    </tr>\n",
       "    <tr>\n",
       "      <th>97</th>\n",
       "      <td>GANSTA</td>\n",
       "      <td>UV Protection Aviator Sunglasses (59)</td>\n",
       "      <td>₹261</td>\n",
       "    </tr>\n",
       "    <tr>\n",
       "      <th>98</th>\n",
       "      <td>WROGN</td>\n",
       "      <td>Mirrored Aviator Sunglasses (56)</td>\n",
       "      <td>₹759</td>\n",
       "    </tr>\n",
       "    <tr>\n",
       "      <th>99</th>\n",
       "      <td>United Colors of Benetton</td>\n",
       "      <td>Toughened Glass Lens, UV Protection Rectangula...</td>\n",
       "      <td>₹1,029</td>\n",
       "    </tr>\n",
       "  </tbody>\n",
       "</table>\n",
       "<p>100 rows × 3 columns</p>\n",
       "</div>"
      ],
      "text/plain": [
       "                        Brand  \\\n",
       "0                        SRPM   \n",
       "1                   Elligator   \n",
       "2              kingsunglasses   \n",
       "3                    Fastrack   \n",
       "4                      PIRASO   \n",
       "..                        ...   \n",
       "95  United Colors of Benetton   \n",
       "96                  ROYAL SON   \n",
       "97                     GANSTA   \n",
       "98                      WROGN   \n",
       "99  United Colors of Benetton   \n",
       "\n",
       "                                  Product Discription   Price  \n",
       "0              UV Protection Wayfarer Sunglasses (56)    ₹188  \n",
       "1                 UV Protection Round Sunglasses (54)    ₹248  \n",
       "2                 UV Protection Round Sunglasses (54)    ₹188  \n",
       "3   Gradient, UV Protection Wayfarer Sunglasses (F...    ₹479  \n",
       "4               UV Protection Aviator Sunglasses (54)    ₹200  \n",
       "..                                                ...     ...  \n",
       "95            Mirrored Aviator Sunglasses (Free Size)    ₹989  \n",
       "96              UV Protection Aviator Sunglasses (57)    ₹359  \n",
       "97              UV Protection Aviator Sunglasses (59)    ₹261  \n",
       "98                   Mirrored Aviator Sunglasses (56)    ₹759  \n",
       "99  Toughened Glass Lens, UV Protection Rectangula...  ₹1,029  \n",
       "\n",
       "[100 rows x 3 columns]"
      ]
     },
     "execution_count": 136,
     "metadata": {},
     "output_type": "execute_result"
    }
   ],
   "source": [
    "#dataframe\n",
    "sunglasses=pd.DataFrame()\n",
    "sunglasses['Brand']=brand_name+brand_name1+brand_name2\n",
    "sunglasses['Product Discription']=product_discription+product_discription1+product_discription2\n",
    "sunglasses['Price']=product_amount+product_amount1+product_amount2\n",
    "sunglasses"
   ]
  },
  {
   "cell_type": "markdown",
   "id": "96e46cd3",
   "metadata": {},
   "source": [
    "# 5.Python program to scrape 100 reviews data from flipkart.com for iphone11 phone"
   ]
  },
  {
   "cell_type": "code",
   "execution_count": 3,
   "id": "a2d44b6d",
   "metadata": {},
   "outputs": [],
   "source": [
    "driver=webdriver.Chrome(r'C:\\Users\\Hi\\Downloads\\chromedriver_win32\\chromedriver.exe')"
   ]
  },
  {
   "cell_type": "code",
   "execution_count": 4,
   "id": "b214a542",
   "metadata": {},
   "outputs": [],
   "source": [
    "url = 'https://www.flipkart.com/'\n",
    "driver.get(url)"
   ]
  },
  {
   "cell_type": "code",
   "execution_count": 5,
   "id": "e0cc9fc2",
   "metadata": {},
   "outputs": [],
   "source": [
    "search_iphone=driver.find_element_by_xpath('/html/body/div[1]/div/div[1]/div[1]/div[2]/div[2]/form/div/div/input')\n",
    "search_iphone.send_keys(\"iphone 11\")"
   ]
  },
  {
   "cell_type": "code",
   "execution_count": 6,
   "id": "9f92305d",
   "metadata": {},
   "outputs": [],
   "source": [
    "search_button=driver.find_element_by_xpath('/html/body/div[1]/div/div[1]/div[1]/div[2]/div[2]/form/div/button')\n",
    "search_button.click()"
   ]
  },
  {
   "cell_type": "code",
   "execution_count": 7,
   "id": "bcb4b20b",
   "metadata": {},
   "outputs": [],
   "source": [
    "search_title=driver.find_element_by_xpath('/html/body/div[1]/div/div[3]/div[1]/div[2]/div[2]/div/div/div/a/div[2]/div[1]/div[1]')\n",
    "search_title.click()"
   ]
  },
  {
   "cell_type": "code",
   "execution_count": 8,
   "id": "e9715458",
   "metadata": {},
   "outputs": [
    {
     "ename": "NameError",
     "evalue": "name 'urls' is not defined",
     "output_type": "error",
     "traceback": [
      "\u001b[1;31m---------------------------------------------------------------------------\u001b[0m",
      "\u001b[1;31mNameError\u001b[0m                                 Traceback (most recent call last)",
      "\u001b[1;32m~\\AppData\\Local\\Temp/ipykernel_10244/2199921529.py\u001b[0m in \u001b[0;36m<module>\u001b[1;34m\u001b[0m\n\u001b[0;32m      1\u001b[0m \u001b[0murl_1\u001b[0m \u001b[1;33m=\u001b[0m \u001b[0mdriver\u001b[0m\u001b[1;33m.\u001b[0m\u001b[0mfind_elements_by_xpath\u001b[0m\u001b[1;33m(\u001b[0m\u001b[1;34m\"//a[@class='ge-49M _2Kfbh8']\"\u001b[0m\u001b[1;33m)\u001b[0m\u001b[1;33m\u001b[0m\u001b[1;33m\u001b[0m\u001b[0m\n\u001b[0;32m      2\u001b[0m \u001b[1;32mfor\u001b[0m \u001b[0mi\u001b[0m \u001b[1;32min\u001b[0m \u001b[0murl_1\u001b[0m\u001b[1;33m:\u001b[0m\u001b[1;33m\u001b[0m\u001b[1;33m\u001b[0m\u001b[0m\n\u001b[1;32m----> 3\u001b[1;33m     \u001b[0murls\u001b[0m\u001b[1;33m.\u001b[0m\u001b[0mappend\u001b[0m\u001b[1;33m(\u001b[0m\u001b[0mi\u001b[0m\u001b[1;33m.\u001b[0m\u001b[0mget_attribute\u001b[0m\u001b[1;33m(\u001b[0m\u001b[1;34m'href'\u001b[0m\u001b[1;33m)\u001b[0m\u001b[1;33m)\u001b[0m\u001b[1;33m\u001b[0m\u001b[1;33m\u001b[0m\u001b[0m\n\u001b[0m\u001b[0;32m      4\u001b[0m \u001b[0murl_2\u001b[0m \u001b[1;33m=\u001b[0m \u001b[0mdriver\u001b[0m\u001b[1;33m.\u001b[0m\u001b[0mfind_elements_by_xpath\u001b[0m\u001b[1;33m(\u001b[0m\u001b[1;34m\"//a[@class='ge-49M']\"\u001b[0m\u001b[1;33m)\u001b[0m\u001b[1;33m\u001b[0m\u001b[1;33m\u001b[0m\u001b[0m\n\u001b[0;32m      5\u001b[0m \u001b[1;32mfor\u001b[0m \u001b[0mi\u001b[0m \u001b[1;32min\u001b[0m \u001b[0murl_2\u001b[0m\u001b[1;33m:\u001b[0m\u001b[1;33m\u001b[0m\u001b[1;33m\u001b[0m\u001b[0m\n",
      "\u001b[1;31mNameError\u001b[0m: name 'urls' is not defined"
     ]
    }
   ],
   "source": [
    "url_1 = driver.find_elements_by_xpath(\"//a[@class='ge-49M _2Kfbh8']\")\n",
    "for i in url_1:\n",
    "    urls.append(i.get_attribute('href'))\n",
    "url_2 = driver.find_elements_by_xpath(\"//a[@class='ge-49M']\")\n",
    "for i in url_2:\n",
    "    urls.append(i.get_attribute('href'))\n",
    "time.sleep(4)"
   ]
  },
  {
   "cell_type": "code",
   "execution_count": 9,
   "id": "2f998dd2",
   "metadata": {},
   "outputs": [
    {
     "ename": "NameError",
     "evalue": "name 'URLS' is not defined",
     "output_type": "error",
     "traceback": [
      "\u001b[1;31m---------------------------------------------------------------------------\u001b[0m",
      "\u001b[1;31mNameError\u001b[0m                                 Traceback (most recent call last)",
      "\u001b[1;32m~\\AppData\\Local\\Temp/ipykernel_10244/3573264446.py\u001b[0m in \u001b[0;36m<module>\u001b[1;34m\u001b[0m\n\u001b[0;32m      2\u001b[0m \u001b[0mReview\u001b[0m \u001b[1;33m=\u001b[0m \u001b[1;33m[\u001b[0m\u001b[1;33m]\u001b[0m\u001b[1;33m\u001b[0m\u001b[1;33m\u001b[0m\u001b[0m\n\u001b[0;32m      3\u001b[0m \u001b[0mFull_review\u001b[0m \u001b[1;33m=\u001b[0m \u001b[1;33m[\u001b[0m\u001b[1;33m]\u001b[0m\u001b[1;33m\u001b[0m\u001b[1;33m\u001b[0m\u001b[0m\n\u001b[1;32m----> 4\u001b[1;33m \u001b[1;32mfor\u001b[0m \u001b[0mi\u001b[0m \u001b[1;32min\u001b[0m \u001b[0mURLS\u001b[0m\u001b[1;33m:\u001b[0m\u001b[1;33m\u001b[0m\u001b[1;33m\u001b[0m\u001b[0m\n\u001b[0m\u001b[0;32m      5\u001b[0m     \u001b[0mdriver\u001b[0m\u001b[1;33m.\u001b[0m\u001b[0mget\u001b[0m\u001b[1;33m(\u001b[0m\u001b[0mi\u001b[0m\u001b[1;33m)\u001b[0m\u001b[1;33m\u001b[0m\u001b[1;33m\u001b[0m\u001b[0m\n\u001b[0;32m      6\u001b[0m \u001b[1;33m\u001b[0m\u001b[0m\n",
      "\u001b[1;31mNameError\u001b[0m: name 'URLS' is not defined"
     ]
    }
   ],
   "source": [
    "Rating = []\n",
    "Review = []\n",
    "Full_review = []\n",
    "for i in URLS:\n",
    "    driver.get(i)\n",
    "\n",
    "for i in range(10):\n",
    "    \n",
    "    for i in driver.find_elements_by_xpath('//div[@class=\"col _2wzgFH K0kLPL\"]/div[1]/div'):\n",
    "        Rating.append(i.text)    \n",
    "    try:\n",
    "        driver.find_element_by_xpath('//a[@class=\"_1LKTO3\"][2]').click()\n",
    "        time.sleep(6)\n",
    "    except:\n",
    "        driver.find_element_by_xpath('//a[@class=\"_1LKTO3\"]').click()\n",
    "        time.sleep(6)"
   ]
  },
  {
   "cell_type": "markdown",
   "id": "1067a4d2",
   "metadata": {},
   "source": [
    "# Scrape data for first 100 sneakers you find when you visit flipkart.com andsearch for “sneakers” in the\n",
    "search field"
   ]
  },
  {
   "cell_type": "code",
   "execution_count": 10,
   "id": "e3896020",
   "metadata": {},
   "outputs": [],
   "source": [
    "driver=webdriver.Chrome(r'C:\\Users\\Hi\\Downloads\\chromedriver_win32\\chromedriver.exe')"
   ]
  },
  {
   "cell_type": "code",
   "execution_count": 11,
   "id": "000e4230",
   "metadata": {},
   "outputs": [],
   "source": [
    "url = 'https://www.flipkart.com/'\n",
    "driver.get(url)"
   ]
  },
  {
   "cell_type": "code",
   "execution_count": 12,
   "id": "db33e0ef",
   "metadata": {},
   "outputs": [],
   "source": [
    "search_sunglasses=driver.find_element_by_xpath('/html/body/div[1]/div/div[1]/div[1]/div[2]/div[2]/form/div/div/input')\n",
    "search_sunglasses.send_keys(\"sneakers\")"
   ]
  },
  {
   "cell_type": "code",
   "execution_count": 14,
   "id": "f9bb8112",
   "metadata": {},
   "outputs": [],
   "source": [
    "search_button=driver.find_element_by_xpath('/html/body/div[1]/div/div[1]/div[1]/div[2]/div[2]/form/div/button')\n",
    "search_button.click()"
   ]
  },
  {
   "cell_type": "code",
   "execution_count": 15,
   "id": "a75021bb",
   "metadata": {},
   "outputs": [
    {
     "data": {
      "text/plain": [
       "['RED TAPE',\n",
       " 'RED TAPE',\n",
       " 'Magnolia',\n",
       " 'URBANBOX',\n",
       " 'Labbin',\n",
       " 'luxury fashion',\n",
       " 'Stefano Rads',\n",
       " 'RED TAPE',\n",
       " 'SCATCHITE',\n",
       " 'BIRDE',\n",
       " 'Numenzo',\n",
       " 'RED TAPE',\n",
       " 'Shoes Bank',\n",
       " 'ASTEROID',\n",
       " 'HOTSTYLE',\n",
       " 'RED TAPE',\n",
       " 'Trendmode',\n",
       " 'Extoes',\n",
       " 'D-SNEAKERZ',\n",
       " 'Advick',\n",
       " 'ganpati traders',\n",
       " 'World Wear Footwear',\n",
       " 'Arohi',\n",
       " 'RED TAPE',\n",
       " 'Rzisbo',\n",
       " 'India hub',\n",
       " 'Echor',\n",
       " 'RED TAPE',\n",
       " 'TR',\n",
       " 'Kraasa',\n",
       " 'RapidBox',\n",
       " 'RED TAPE',\n",
       " 'CLYMB',\n",
       " 'Kraasa',\n",
       " 'ASTEROID',\n",
       " 'RED TAPE',\n",
       " 'ESSENCE',\n",
       " 'BRUTON',\n",
       " 'Lee Won',\n",
       " 'RED TAPE']"
      ]
     },
     "execution_count": 15,
     "metadata": {},
     "output_type": "execute_result"
    }
   ],
   "source": [
    "product_brand=driver.find_elements_by_xpath('//div[@class=\"_2WkVRV\"]')\n",
    "brand_name=[]\n",
    "for i in product_brand:\n",
    "    brand_name.append(i.text)\n",
    "brand_name"
   ]
  },
  {
   "cell_type": "code",
   "execution_count": 16,
   "id": "95a818fe",
   "metadata": {},
   "outputs": [
    {
     "data": {
      "text/plain": [
       "['Sneakers For Men',\n",
       " 'Sneakers For Men',\n",
       " 'Sneakers For Men',\n",
       " 'Sneakers For Men',\n",
       " 'Luxury Fashionable casual sneaker shoes Sneakers For Me...',\n",
       " 'Classic Sneakers For Men',\n",
       " 'Sneakers Sneakers For Men',\n",
       " 'Sports Running Shoes Sneakers For Men',\n",
       " '411 Casual Sneakers For Men',\n",
       " 'Classic Sneakers For Men',\n",
       " \"White Sneaker For Men's/Boy's Sneakers For Men\",\n",
       " \"Original Luxury Branded Fashionable Men's Casual Walkin...\",\n",
       " 'Sneakers For Men',\n",
       " 'Sneakers For Men',\n",
       " 'Sneakers For Men',\n",
       " 'Modern Trendy Shoes Combo pack of 4 Sneakers For Men',\n",
       " \"Casual , Partywear Sneakers Shoes For Men's And Boys Wh...\",\n",
       " 'Sneakers For Men',\n",
       " 'Latest Collection-1216 Stylish Casual Sports Sneakers F...',\n",
       " 'Sneakers For Men',\n",
       " 'Sneakers For Men',\n",
       " \"Men's Sneakers Fashion Lightweight Running Shoes Tennis...\",\n",
       " 'Sneakers For Men',\n",
       " 'Sneakers For Men',\n",
       " 'Series 7 Sneakers For Men',\n",
       " 'Classic Sneakers For Men',\n",
       " 'Sneakers For Men',\n",
       " 'Shark-41 Sneakers For Men',\n",
       " \"Original Luxury Branded Fashionable Men's Casual Walkin...\",\n",
       " 'Sneakers For Men',\n",
       " 'Sneakers For Men',\n",
       " 'Combo Pack of 5 Casual Sneakers With Sneakers For Men',\n",
       " 'Sneakers For Men']"
      ]
     },
     "execution_count": 16,
     "metadata": {},
     "output_type": "execute_result"
    }
   ],
   "source": [
    "product_dis=driver.find_elements_by_xpath('//a[@class=\"IRpwTa\"]')\n",
    "product_discription=[]\n",
    "for i in product_dis:\n",
    "    product_discription.append(i.text)\n",
    "product_discription"
   ]
  },
  {
   "cell_type": "code",
   "execution_count": 17,
   "id": "b624c86d",
   "metadata": {},
   "outputs": [
    {
     "data": {
      "text/plain": [
       "['₹1,648',\n",
       " '₹1,258',\n",
       " '₹398',\n",
       " '₹220',\n",
       " '₹499',\n",
       " '₹449',\n",
       " '₹242',\n",
       " '₹1,678',\n",
       " '₹398',\n",
       " '₹299',\n",
       " '₹426',\n",
       " '₹1,708',\n",
       " '₹345',\n",
       " '₹499',\n",
       " '₹298',\n",
       " '₹1,258',\n",
       " '₹359',\n",
       " '₹948',\n",
       " '₹348',\n",
       " '₹828',\n",
       " '₹189',\n",
       " '₹199',\n",
       " '₹399',\n",
       " '₹1,409',\n",
       " '₹549',\n",
       " '₹449',\n",
       " '₹499',\n",
       " '₹1,258',\n",
       " '₹599',\n",
       " '₹444',\n",
       " '₹640',\n",
       " '₹1,678',\n",
       " '₹649',\n",
       " '₹444',\n",
       " '₹499',\n",
       " '₹1,379',\n",
       " '₹399',\n",
       " '₹715',\n",
       " '₹299',\n",
       " '₹1,559']"
      ]
     },
     "execution_count": 17,
     "metadata": {},
     "output_type": "execute_result"
    }
   ],
   "source": [
    "product_price=driver.find_elements_by_xpath('//div[@class=\"_30jeq3\"]')\n",
    "product_amount=[]\n",
    "for i in product_price:\n",
    "    product_amount.append(i.text)\n",
    "product_amount"
   ]
  },
  {
   "cell_type": "code",
   "execution_count": 18,
   "id": "7c2614e4",
   "metadata": {},
   "outputs": [],
   "source": [
    "next_page=driver.find_element_by_xpath('/html/body/div[1]/div/div[3]/div[1]/div[2]/div[12]/div/div/nav/a[11]')\n",
    "next_page.click()"
   ]
  },
  {
   "cell_type": "code",
   "execution_count": 19,
   "id": "93264962",
   "metadata": {},
   "outputs": [
    {
     "data": {
      "text/plain": [
       "['Robbie jones',\n",
       " 'BRUTON',\n",
       " 'Numenzo',\n",
       " 'RED TAPE',\n",
       " 'BRUTON',\n",
       " 'Robbie jones',\n",
       " 'Robbie jones',\n",
       " 'RED TAPE',\n",
       " 'SPARX',\n",
       " 'WOODLAND',\n",
       " 'DUNKASTON',\n",
       " 'RED TAPE',\n",
       " 'aadi',\n",
       " 'SPARX',\n",
       " 'Echor',\n",
       " 'RED TAPE',\n",
       " 'Kraasa',\n",
       " 'Airland',\n",
       " 'BRUTON',\n",
       " 'Advick',\n",
       " 'believe',\n",
       " 'KANEGGYE',\n",
       " 'HRDK',\n",
       " 'RED TAPE',\n",
       " 'World Wear Footwear',\n",
       " 'Starlinc',\n",
       " 'BRUTON',\n",
       " 'DOC Martin',\n",
       " 'URBANBOX',\n",
       " 'India hub',\n",
       " 'Vellinto',\n",
       " 'RED TAPE',\n",
       " 'ESSENCE',\n",
       " 'WHITE WALKERS',\n",
       " 'LE GREEM',\n",
       " 'RED TAPE',\n",
       " 'RODDICK SHOES',\n",
       " 'Layasa',\n",
       " 'Zsyto',\n",
       " 'DOC Martin']"
      ]
     },
     "execution_count": 19,
     "metadata": {},
     "output_type": "execute_result"
    }
   ],
   "source": [
    "product_brand=driver.find_elements_by_xpath('//div[@class=\"_2WkVRV\"]')\n",
    "brand_name1=[]\n",
    "for i in product_brand:\n",
    "    brand_name1.append(i.text)\n",
    "brand_name1"
   ]
  },
  {
   "cell_type": "code",
   "execution_count": 20,
   "id": "eef2bbb2",
   "metadata": {},
   "outputs": [
    {
     "data": {
      "text/plain": [
       "['Sneakers For Men',\n",
       " 'Lightweight Pack Of 1 Trendy Sneakers Sneakers Sneakers...',\n",
       " 'White Sneaker For Men Sneakers For Men',\n",
       " 'Classic Sneakers For Men',\n",
       " 'Modern Trendy Sneakers Shoes Sneakers For Men',\n",
       " 'Casual Sneakers Black Shoes For Men Sneakers For Men',\n",
       " 'Sneakers For Men',\n",
       " 'Sneakers For Men',\n",
       " 'Sneakers For Men',\n",
       " 'Sneakers For Men',\n",
       " 'Sneakers For Men',\n",
       " 'Sneakers For Men',\n",
       " \"Echor Men's Sneakers Fashion Lightweight Running Shoes ...\",\n",
       " 'Sneakers For Men',\n",
       " 'Shark-41 Sneakers For Men',\n",
       " 'Sneakers Shoes For Men Black Sneakers For Men',\n",
       " 'Modern & Trendy Collection Combo Pack of 02 Shoes for M...',\n",
       " 'Sneakers For Men',\n",
       " 'Sneakers for men(black_6) Sneakers For Men',\n",
       " 'Sneakers For Men',\n",
       " 'Sneakers For Men',\n",
       " 'Classic Sneakers For Men',\n",
       " 'Combo Pack of 4 Latest Collection Stylish Casual Loafer...',\n",
       " 'Combo Pack Of 2 Latest Stylish Casual Shoes for Men Lac...',\n",
       " 'White Melvin Sneakers For Men',\n",
       " 'Luxury Fashionable casual sneaker shoes Sneakers For Me...',\n",
       " 'Casual Sneakrs For Men Sneakers For Men',\n",
       " 'Classic Sneakers For Men',\n",
       " 'Sneakers For Men',\n",
       " 'Sneakers For Men',\n",
       " 'Comfortable & Ultra Light Weight Sneaker Sneakers For M...',\n",
       " 'Sneakers For Men',\n",
       " 'Fashion Outdoor Canvas Casual Light Weight Lace-up Even...',\n",
       " 'Walking shoes,Casual Sneakers For Men',\n",
       " 'White Ranger Sneakers For Men']"
      ]
     },
     "execution_count": 20,
     "metadata": {},
     "output_type": "execute_result"
    }
   ],
   "source": [
    "product_dis=driver.find_elements_by_xpath('//a[@class=\"IRpwTa\"]')\n",
    "product_discription1=[]\n",
    "for i in product_dis:\n",
    "    product_discription1.append(i.text)\n",
    "product_discription1"
   ]
  },
  {
   "cell_type": "code",
   "execution_count": 21,
   "id": "8048a987",
   "metadata": {},
   "outputs": [
    {
     "data": {
      "text/plain": [
       "['₹474',\n",
       " '₹178',\n",
       " '₹407',\n",
       " '₹1,678',\n",
       " '₹299',\n",
       " '₹451',\n",
       " '₹499',\n",
       " '₹1,258',\n",
       " '₹799',\n",
       " '₹2,995',\n",
       " '₹374',\n",
       " '₹1,258',\n",
       " '₹399',\n",
       " '₹799',\n",
       " '₹499',\n",
       " '₹1,648',\n",
       " '₹449',\n",
       " '₹190',\n",
       " '₹447',\n",
       " '₹828',\n",
       " '₹424',\n",
       " '₹399',\n",
       " '₹367',\n",
       " '₹1,678',\n",
       " '₹599',\n",
       " '₹237',\n",
       " '₹530',\n",
       " '₹1,116',\n",
       " '₹166',\n",
       " '₹429',\n",
       " '₹749',\n",
       " '₹1,708',\n",
       " '₹399',\n",
       " '₹599',\n",
       " '₹426',\n",
       " '₹1,379',\n",
       " '₹499',\n",
       " '₹399',\n",
       " '₹328',\n",
       " '₹1,116']"
      ]
     },
     "execution_count": 21,
     "metadata": {},
     "output_type": "execute_result"
    }
   ],
   "source": [
    "product_price=driver.find_elements_by_xpath('//div[@class=\"_30jeq3\"]')\n",
    "product_amount1=[]\n",
    "for i in product_price:\n",
    "    product_amount1.append(i.text)\n",
    "product_amount1"
   ]
  },
  {
   "cell_type": "code",
   "execution_count": 22,
   "id": "e3efd12f",
   "metadata": {},
   "outputs": [],
   "source": [
    "next_page=driver.find_element_by_xpath('/html/body/div[1]/div/div[3]/div[1]/div[2]/div[12]/div/div/nav/a[11]')\n",
    "next_page.click()"
   ]
  },
  {
   "cell_type": "code",
   "execution_count": 23,
   "id": "d1996f77",
   "metadata": {},
   "outputs": [
    {
     "data": {
      "text/plain": [
       "['bluemaker',\n",
       " 'Chevit',\n",
       " 'M7 By Metronaut',\n",
       " 'RED TAPE',\n",
       " 'SPARX',\n",
       " 'K- FOOTLANCE',\n",
       " 'Chevit',\n",
       " 'RED TAPE',\n",
       " 'PROVOGUE',\n",
       " 'restinfoot',\n",
       " 'Kirjak',\n",
       " 'RED TAPE',\n",
       " 'RED TAPE',\n",
       " 'RODDICK SHOES',\n",
       " 'RODDICK SHOES',\n",
       " 'RED TAPE',\n",
       " 'Infinix',\n",
       " 'BIRDE',\n",
       " 'BRUTON',\n",
       " 'Bond Street By Red Tape']"
      ]
     },
     "execution_count": 23,
     "metadata": {},
     "output_type": "execute_result"
    }
   ],
   "source": [
    "product_brand=driver.find_elements_by_xpath('//div[@class=\"_2WkVRV\"]')\n",
    "brand_name2=[]\n",
    "for i in product_brand:\n",
    "    brand_name2.append(i.text)\n",
    "brand_name2=brand_name2[0:20]\n",
    "brand_name2"
   ]
  },
  {
   "cell_type": "code",
   "execution_count": 24,
   "id": "09656664",
   "metadata": {},
   "outputs": [
    {
     "data": {
      "text/plain": [
       "['casual for men (blue 06) Sneakers For Men',\n",
       " 'Smart Casuals Canvas Shoes Combo pack of 2 Sneakers For...',\n",
       " '(M7-22503)-Black Grey Sneakers For Men',\n",
       " 'Sneakers For Men',\n",
       " 'Sneakers For Men | Latest Stylish Causal Shoes For Men ...',\n",
       " 'Stylish & Comfort Combo Pack of 02 Pair Shoes for Boys ...',\n",
       " 'Sneakers For Men',\n",
       " 'Sneakers For Men',\n",
       " 'Casual shoes Sneakers For Men',\n",
       " \"men's Red sneakers lace-up trendy casual Sneakers For M...\",\n",
       " 'Sneakers For Men',\n",
       " 'Sneakers For Men',\n",
       " 'Men & Boys Stylish, Comfortable Mesh Shoes With Soft La...',\n",
       " 'Sneakers For Men',\n",
       " 'Combo Pack of 2 Casual Shoes Sneakers For Men',\n",
       " 'Combo Pack Of 2 Lattest Collection shoes Sneakers For M...',\n",
       " 'Sneakers For Men',\n",
       " 'Sneakers For Men',\n",
       " 'Mesh Walking Casual Sneakers Shoes for Men And Boys Sne...',\n",
       " 'Sneakers For Men']"
      ]
     },
     "execution_count": 24,
     "metadata": {},
     "output_type": "execute_result"
    }
   ],
   "source": [
    "product_dis=driver.find_elements_by_xpath('//a[@class=\"IRpwTa\"]')\n",
    "product_discription2=[]\n",
    "for i in product_dis:\n",
    "    product_discription2.append(i.text)\n",
    "product_discription2=product_discription2[0:20]\n",
    "product_discription2"
   ]
  },
  {
   "cell_type": "code",
   "execution_count": 25,
   "id": "af5d011d",
   "metadata": {},
   "outputs": [
    {
     "data": {
      "text/plain": [
       "['₹449',\n",
       " '₹357',\n",
       " '₹729',\n",
       " '₹1,648',\n",
       " '₹1,019',\n",
       " '₹464',\n",
       " '₹446',\n",
       " '₹1,258',\n",
       " '₹740',\n",
       " '₹378',\n",
       " '₹472',\n",
       " '₹1,409',\n",
       " '₹1,559',\n",
       " '₹499',\n",
       " '₹474',\n",
       " '₹1,559',\n",
       " '₹399',\n",
       " '₹423',\n",
       " '₹321',\n",
       " '₹1,259']"
      ]
     },
     "execution_count": 25,
     "metadata": {},
     "output_type": "execute_result"
    }
   ],
   "source": [
    "product_price=driver.find_elements_by_xpath('//div[@class=\"_30jeq3\"]')\n",
    "product_amount2=[]\n",
    "for i in product_price:\n",
    "    product_amount2.append(i.text)\n",
    "product_amount2=product_amount2[0:20]\n",
    "product_amount2"
   ]
  },
  {
   "cell_type": "code",
   "execution_count": 26,
   "id": "82b591d9",
   "metadata": {},
   "outputs": [
    {
     "ename": "ValueError",
     "evalue": "Length of values (88) does not match length of index (100)",
     "output_type": "error",
     "traceback": [
      "\u001b[1;31m---------------------------------------------------------------------------\u001b[0m",
      "\u001b[1;31mValueError\u001b[0m                                Traceback (most recent call last)",
      "\u001b[1;32m~\\AppData\\Local\\Temp/ipykernel_10244/570250463.py\u001b[0m in \u001b[0;36m<module>\u001b[1;34m\u001b[0m\n\u001b[0;32m      1\u001b[0m \u001b[0msunglasses\u001b[0m\u001b[1;33m=\u001b[0m\u001b[0mpd\u001b[0m\u001b[1;33m.\u001b[0m\u001b[0mDataFrame\u001b[0m\u001b[1;33m(\u001b[0m\u001b[1;33m)\u001b[0m\u001b[1;33m\u001b[0m\u001b[1;33m\u001b[0m\u001b[0m\n\u001b[0;32m      2\u001b[0m \u001b[0msunglasses\u001b[0m\u001b[1;33m[\u001b[0m\u001b[1;34m'Brand'\u001b[0m\u001b[1;33m]\u001b[0m\u001b[1;33m=\u001b[0m\u001b[0mbrand_name\u001b[0m\u001b[1;33m+\u001b[0m\u001b[0mbrand_name1\u001b[0m\u001b[1;33m+\u001b[0m\u001b[0mbrand_name2\u001b[0m\u001b[1;33m\u001b[0m\u001b[1;33m\u001b[0m\u001b[0m\n\u001b[1;32m----> 3\u001b[1;33m \u001b[0msunglasses\u001b[0m\u001b[1;33m[\u001b[0m\u001b[1;34m'Product Discription'\u001b[0m\u001b[1;33m]\u001b[0m\u001b[1;33m=\u001b[0m\u001b[0mproduct_discription\u001b[0m\u001b[1;33m+\u001b[0m\u001b[0mproduct_discription1\u001b[0m\u001b[1;33m+\u001b[0m\u001b[0mproduct_discription2\u001b[0m\u001b[1;33m\u001b[0m\u001b[1;33m\u001b[0m\u001b[0m\n\u001b[0m\u001b[0;32m      4\u001b[0m \u001b[0msunglasses\u001b[0m\u001b[1;33m[\u001b[0m\u001b[1;34m'Price'\u001b[0m\u001b[1;33m]\u001b[0m\u001b[1;33m=\u001b[0m\u001b[0mproduct_amount\u001b[0m\u001b[1;33m+\u001b[0m\u001b[0mproduct_amount1\u001b[0m\u001b[1;33m+\u001b[0m\u001b[0mproduct_amount2\u001b[0m\u001b[1;33m\u001b[0m\u001b[1;33m\u001b[0m\u001b[0m\n\u001b[0;32m      5\u001b[0m \u001b[0msunglasses\u001b[0m\u001b[1;33m\u001b[0m\u001b[1;33m\u001b[0m\u001b[0m\n",
      "\u001b[1;32mC:\\ProgramData\\Anaconda3\\lib\\site-packages\\pandas\\core\\frame.py\u001b[0m in \u001b[0;36m__setitem__\u001b[1;34m(self, key, value)\u001b[0m\n\u001b[0;32m   3610\u001b[0m         \u001b[1;32melse\u001b[0m\u001b[1;33m:\u001b[0m\u001b[1;33m\u001b[0m\u001b[1;33m\u001b[0m\u001b[0m\n\u001b[0;32m   3611\u001b[0m             \u001b[1;31m# set column\u001b[0m\u001b[1;33m\u001b[0m\u001b[1;33m\u001b[0m\u001b[0m\n\u001b[1;32m-> 3612\u001b[1;33m             \u001b[0mself\u001b[0m\u001b[1;33m.\u001b[0m\u001b[0m_set_item\u001b[0m\u001b[1;33m(\u001b[0m\u001b[0mkey\u001b[0m\u001b[1;33m,\u001b[0m \u001b[0mvalue\u001b[0m\u001b[1;33m)\u001b[0m\u001b[1;33m\u001b[0m\u001b[1;33m\u001b[0m\u001b[0m\n\u001b[0m\u001b[0;32m   3613\u001b[0m \u001b[1;33m\u001b[0m\u001b[0m\n\u001b[0;32m   3614\u001b[0m     \u001b[1;32mdef\u001b[0m \u001b[0m_setitem_slice\u001b[0m\u001b[1;33m(\u001b[0m\u001b[0mself\u001b[0m\u001b[1;33m,\u001b[0m \u001b[0mkey\u001b[0m\u001b[1;33m:\u001b[0m \u001b[0mslice\u001b[0m\u001b[1;33m,\u001b[0m \u001b[0mvalue\u001b[0m\u001b[1;33m)\u001b[0m\u001b[1;33m:\u001b[0m\u001b[1;33m\u001b[0m\u001b[1;33m\u001b[0m\u001b[0m\n",
      "\u001b[1;32mC:\\ProgramData\\Anaconda3\\lib\\site-packages\\pandas\\core\\frame.py\u001b[0m in \u001b[0;36m_set_item\u001b[1;34m(self, key, value)\u001b[0m\n\u001b[0;32m   3782\u001b[0m         \u001b[0mensure\u001b[0m \u001b[0mhomogeneity\u001b[0m\u001b[1;33m.\u001b[0m\u001b[1;33m\u001b[0m\u001b[1;33m\u001b[0m\u001b[0m\n\u001b[0;32m   3783\u001b[0m         \"\"\"\n\u001b[1;32m-> 3784\u001b[1;33m         \u001b[0mvalue\u001b[0m \u001b[1;33m=\u001b[0m \u001b[0mself\u001b[0m\u001b[1;33m.\u001b[0m\u001b[0m_sanitize_column\u001b[0m\u001b[1;33m(\u001b[0m\u001b[0mvalue\u001b[0m\u001b[1;33m)\u001b[0m\u001b[1;33m\u001b[0m\u001b[1;33m\u001b[0m\u001b[0m\n\u001b[0m\u001b[0;32m   3785\u001b[0m \u001b[1;33m\u001b[0m\u001b[0m\n\u001b[0;32m   3786\u001b[0m         if (\n",
      "\u001b[1;32mC:\\ProgramData\\Anaconda3\\lib\\site-packages\\pandas\\core\\frame.py\u001b[0m in \u001b[0;36m_sanitize_column\u001b[1;34m(self, value)\u001b[0m\n\u001b[0;32m   4507\u001b[0m \u001b[1;33m\u001b[0m\u001b[0m\n\u001b[0;32m   4508\u001b[0m         \u001b[1;32mif\u001b[0m \u001b[0mis_list_like\u001b[0m\u001b[1;33m(\u001b[0m\u001b[0mvalue\u001b[0m\u001b[1;33m)\u001b[0m\u001b[1;33m:\u001b[0m\u001b[1;33m\u001b[0m\u001b[1;33m\u001b[0m\u001b[0m\n\u001b[1;32m-> 4509\u001b[1;33m             \u001b[0mcom\u001b[0m\u001b[1;33m.\u001b[0m\u001b[0mrequire_length_match\u001b[0m\u001b[1;33m(\u001b[0m\u001b[0mvalue\u001b[0m\u001b[1;33m,\u001b[0m \u001b[0mself\u001b[0m\u001b[1;33m.\u001b[0m\u001b[0mindex\u001b[0m\u001b[1;33m)\u001b[0m\u001b[1;33m\u001b[0m\u001b[1;33m\u001b[0m\u001b[0m\n\u001b[0m\u001b[0;32m   4510\u001b[0m         \u001b[1;32mreturn\u001b[0m \u001b[0msanitize_array\u001b[0m\u001b[1;33m(\u001b[0m\u001b[0mvalue\u001b[0m\u001b[1;33m,\u001b[0m \u001b[0mself\u001b[0m\u001b[1;33m.\u001b[0m\u001b[0mindex\u001b[0m\u001b[1;33m,\u001b[0m \u001b[0mcopy\u001b[0m\u001b[1;33m=\u001b[0m\u001b[1;32mTrue\u001b[0m\u001b[1;33m,\u001b[0m \u001b[0mallow_2d\u001b[0m\u001b[1;33m=\u001b[0m\u001b[1;32mTrue\u001b[0m\u001b[1;33m)\u001b[0m\u001b[1;33m\u001b[0m\u001b[1;33m\u001b[0m\u001b[0m\n\u001b[0;32m   4511\u001b[0m \u001b[1;33m\u001b[0m\u001b[0m\n",
      "\u001b[1;32mC:\\ProgramData\\Anaconda3\\lib\\site-packages\\pandas\\core\\common.py\u001b[0m in \u001b[0;36mrequire_length_match\u001b[1;34m(data, index)\u001b[0m\n\u001b[0;32m    529\u001b[0m     \"\"\"\n\u001b[0;32m    530\u001b[0m     \u001b[1;32mif\u001b[0m \u001b[0mlen\u001b[0m\u001b[1;33m(\u001b[0m\u001b[0mdata\u001b[0m\u001b[1;33m)\u001b[0m \u001b[1;33m!=\u001b[0m \u001b[0mlen\u001b[0m\u001b[1;33m(\u001b[0m\u001b[0mindex\u001b[0m\u001b[1;33m)\u001b[0m\u001b[1;33m:\u001b[0m\u001b[1;33m\u001b[0m\u001b[1;33m\u001b[0m\u001b[0m\n\u001b[1;32m--> 531\u001b[1;33m         raise ValueError(\n\u001b[0m\u001b[0;32m    532\u001b[0m             \u001b[1;34m\"Length of values \"\u001b[0m\u001b[1;33m\u001b[0m\u001b[1;33m\u001b[0m\u001b[0m\n\u001b[0;32m    533\u001b[0m             \u001b[1;34mf\"({len(data)}) \"\u001b[0m\u001b[1;33m\u001b[0m\u001b[1;33m\u001b[0m\u001b[0m\n",
      "\u001b[1;31mValueError\u001b[0m: Length of values (88) does not match length of index (100)"
     ]
    }
   ],
   "source": [
    "sunglasses=pd.DataFrame()\n",
    "sunglasses['Brand']=brand_name+brand_name1+brand_name2\n",
    "sunglasses['Product Discription']=product_discription+product_discription1+product_discription2\n",
    "sunglasses['Price']=product_amount+product_amount1+product_amount2\n",
    "sunglasses"
   ]
  },
  {
   "cell_type": "code",
   "execution_count": null,
   "id": "96569c9e",
   "metadata": {},
   "outputs": [],
   "source": []
  }
 ],
 "metadata": {
  "kernelspec": {
   "display_name": "Python 3 (ipykernel)",
   "language": "python",
   "name": "python3"
  },
  "language_info": {
   "codemirror_mode": {
    "name": "ipython",
    "version": 3
   },
   "file_extension": ".py",
   "mimetype": "text/x-python",
   "name": "python",
   "nbconvert_exporter": "python",
   "pygments_lexer": "ipython3",
   "version": "3.9.7"
  }
 },
 "nbformat": 4,
 "nbformat_minor": 5
}
