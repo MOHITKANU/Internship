{
 "cells": [
  {
   "cell_type": "markdown",
   "id": "9ab3ec16",
   "metadata": {},
   "source": [
    "# 1.python program which searches all the product under a particular product from www.amazon.in. \n",
    "The product to be searched will be taken as input from user"
   ]
  },
  {
   "cell_type": "code",
   "execution_count": 39,
   "id": "41164f92",
   "metadata": {},
   "outputs": [
    {
     "name": "stdout",
     "output_type": "stream",
     "text": [
      "Requirement already satisfied: selenium in c:\\programdata\\anaconda3\\lib\\site-packages (4.1.0)\n",
      "Requirement already satisfied: urllib3[secure]~=1.26 in c:\\programdata\\anaconda3\\lib\\site-packages (from selenium) (1.26.7)\n",
      "Requirement already satisfied: trio~=0.17 in c:\\programdata\\anaconda3\\lib\\site-packages (from selenium) (0.19.0)\n",
      "Requirement already satisfied: trio-websocket~=0.9 in c:\\programdata\\anaconda3\\lib\\site-packages (from selenium) (0.9.2)\n",
      "Requirement already satisfied: async-generator>=1.9 in c:\\programdata\\anaconda3\\lib\\site-packages (from trio~=0.17->selenium) (1.10)\n",
      "Requirement already satisfied: attrs>=19.2.0 in c:\\programdata\\anaconda3\\lib\\site-packages (from trio~=0.17->selenium) (21.2.0)\n",
      "Requirement already satisfied: sortedcontainers in c:\\programdata\\anaconda3\\lib\\site-packages (from trio~=0.17->selenium) (2.4.0)\n",
      "Requirement already satisfied: outcome in c:\\programdata\\anaconda3\\lib\\site-packages (from trio~=0.17->selenium) (1.1.0)\n",
      "Requirement already satisfied: cffi>=1.14 in c:\\programdata\\anaconda3\\lib\\site-packages (from trio~=0.17->selenium) (1.14.6)\n",
      "Requirement already satisfied: sniffio in c:\\programdata\\anaconda3\\lib\\site-packages (from trio~=0.17->selenium) (1.2.0)\n",
      "Requirement already satisfied: idna in c:\\programdata\\anaconda3\\lib\\site-packages (from trio~=0.17->selenium) (3.2)\n",
      "Requirement already satisfied: pycparser in c:\\programdata\\anaconda3\\lib\\site-packages (from cffi>=1.14->trio~=0.17->selenium) (2.20)\n",
      "Requirement already satisfied: wsproto>=0.14 in c:\\programdata\\anaconda3\\lib\\site-packages (from trio-websocket~=0.9->selenium) (1.0.0)\n",
      "Requirement already satisfied: pyOpenSSL>=0.14 in c:\\programdata\\anaconda3\\lib\\site-packages (from urllib3[secure]~=1.26->selenium) (21.0.0)\n",
      "Requirement already satisfied: cryptography>=1.3.4 in c:\\programdata\\anaconda3\\lib\\site-packages (from urllib3[secure]~=1.26->selenium) (3.4.8)\n",
      "Requirement already satisfied: certifi in c:\\programdata\\anaconda3\\lib\\site-packages (from urllib3[secure]~=1.26->selenium) (2021.10.8)\n",
      "Requirement already satisfied: six>=1.5.2 in c:\\programdata\\anaconda3\\lib\\site-packages (from pyOpenSSL>=0.14->urllib3[secure]~=1.26->selenium) (1.16.0)\n",
      "Requirement already satisfied: h11<1,>=0.9.0 in c:\\programdata\\anaconda3\\lib\\site-packages (from wsproto>=0.14->trio-websocket~=0.9->selenium) (0.13.0)\n"
     ]
    }
   ],
   "source": [
    "!pip install selenium"
   ]
  },
  {
   "cell_type": "code",
   "execution_count": 16,
   "id": "da3279a9",
   "metadata": {},
   "outputs": [],
   "source": [
    "import selenium\n",
    "from selenium import webdriver\n",
    "import pandas as pd\n",
    "import warnings\n",
    "warnings.filterwarnings(\"ignore\")\n",
    "import time\n",
    "from selenium.common.exceptions import NoSuchElementException"
   ]
  },
  {
   "cell_type": "code",
   "execution_count": 74,
   "id": "cc19b5e3",
   "metadata": {},
   "outputs": [],
   "source": [
    "#connect to the web driver\n",
    "driver=webdriver.Chrome(r'C:\\Users\\Mohit\\Downloads\\chromedriver_win32\\chromedriver.exe')"
   ]
  },
  {
   "cell_type": "code",
   "execution_count": 75,
   "id": "400e23c7",
   "metadata": {},
   "outputs": [],
   "source": [
    "url = 'https://www.amazon.in/'\n",
    "driver.get(url)"
   ]
  },
  {
   "cell_type": "code",
   "execution_count": 76,
   "id": "d84b4ae0",
   "metadata": {},
   "outputs": [],
   "source": [
    "search_product=driver.find_element_by_xpath('/html/body/div[1]/header/div/div[1]/div[2]/div/form/div[2]/div[1]/input')"
   ]
  },
  {
   "cell_type": "code",
   "execution_count": 77,
   "id": "02979d6a",
   "metadata": {},
   "outputs": [
    {
     "name": "stdout",
     "output_type": "stream",
     "text": [
      "Enter the product name: laptop\n"
     ]
    }
   ],
   "source": [
    "user_input=input('Enter the product name: ')\n",
    "search_bar=driver.find_element_by_id(\"twotabsearchtextbox\")\n",
    "search_bar.clear()\n",
    "search_bar.send_keys(user_input)"
   ]
  },
  {
   "cell_type": "code",
   "execution_count": 78,
   "id": "0025c976",
   "metadata": {},
   "outputs": [
    {
     "data": {
      "text/plain": [
       "<selenium.webdriver.remote.webelement.WebElement (session=\"f796730345f524b297d4088d81c44d53\", element=\"4d5caaa4-e224-4847-990c-7a950f0e6fcc\")>"
      ]
     },
     "execution_count": 78,
     "metadata": {},
     "output_type": "execute_result"
    }
   ],
   "source": [
    "search_button=driver.find_element_by_xpath('/html/body/div[1]/header/div/div[1]/div[2]/div/form/div[3]/div/span/input')\n",
    "search_button"
   ]
  },
  {
   "cell_type": "code",
   "execution_count": 79,
   "id": "0a1abcef",
   "metadata": {},
   "outputs": [],
   "source": [
    "search_button.click()"
   ]
  },
  {
   "cell_type": "code",
   "execution_count": 80,
   "id": "893c05b9",
   "metadata": {},
   "outputs": [],
   "source": [
    "product_urls=[]\n",
    "start=0\n",
    "end=3\n",
    "\n",
    "for page in range(start,end):\n",
    "    url=driver.find_elements_by_xpath('//a[@class=\"a-link-normal s-underline-text s-underline-link-text s-link-style a-text-normal\"]')\n",
    "    for i in url:\n",
    "        product_urls.append(i.get_attribute(\"href\"))\n",
    "    next_button=driver.find_element_by_xpath(\"//a[@class='s-pagination-item s-pagination-next s-pagination-button s-pagination-separator']\")\n",
    "    next_button.click()\n",
    "    time.sleep(3)"
   ]
  },
  {
   "cell_type": "code",
   "execution_count": 81,
   "id": "9c4e986a",
   "metadata": {},
   "outputs": [
    {
     "data": {
      "text/plain": [
       "['https://www.amazon.in/gp/slredirect/picassoRedirect.html/ref=pa_sp_atf_aps_sr_pg1_1?ie=UTF8&adId=A03785441QBA4DPJOAU1X&url=%2FHP-Pavilion-Anti-Glare-Fingerprint-14-dv1001TU%2Fdp%2FB09MH5MLYP%2Fref%3Dsr_1_1_sspa%3Fcrid%3D1YGMFKF3ONBQB%26keywords%3Dlaptop%26qid%3D1643565104%26sprefix%3Dlaptop%252Caps%252C1106%26sr%3D8-1-spons%26psc%3D1&qualifier=1643565104&id=8972267957677099&widgetName=sp_atf',\n",
       " 'https://www.amazon.in/gp/slredirect/picassoRedirect.html/ref=pa_sp_atf_aps_sr_pg1_1?ie=UTF8&adId=A05966859SVH7RIJ4RIW&url=%2FHP-3-3250-Laptop-Windows-15s-gr0012AU%2Fdp%2FB08T6THSMQ%2Fref%3Dsr_1_2_sspa%3Fcrid%3D1YGMFKF3ONBQB%26keywords%3Dlaptop%26qid%3D1643565104%26sprefix%3Dlaptop%252Caps%252C1106%26sr%3D8-2-spons%26psc%3D1&qualifier=1643565104&id=8972267957677099&widgetName=sp_atf',\n",
       " 'https://www.amazon.in/Lenovo-Chromebook-Business-Processor-82M10019HA/dp/B09NQ9Z2S6/ref=sr_1_3?crid=1YGMFKF3ONBQB&keywords=laptop&qid=1643565104&sprefix=laptop%2Caps%2C1106&sr=8-3',\n",
       " 'https://www.amazon.in/HP-Chromebook-14a-na0003TU-Touchscreen-Expandable/dp/B08C5W6PL2/ref=sr_1_4?crid=1YGMFKF3ONBQB&keywords=laptop&qid=1643565104&sprefix=laptop%2Caps%2C1106&sr=8-4',\n",
       " 'https://www.amazon.in/HP-Pavilion-Anti-Glare-Fingerprint-15-eh1108AU/dp/B09HV3WT9J/ref=sr_1_5?crid=1YGMFKF3ONBQB&keywords=laptop&qid=1643565104&sprefix=laptop%2Caps%2C1106&sr=8-5',\n",
       " 'https://www.amazon.in/Lenovo-Windows10-Fingerprint-Aluminium-82FG00BPIN/dp/B08P3LVRL8/ref=sxin_12?asc_contentid=amzn1.osa.bdcb726a-fa62-4ed1-ac29-682d42e04808.A21TJRUUN4KGV.en_IN&asc_contenttype=article&ascsubtag=amzn1.osa.bdcb726a-fa62-4ed1-ac29-682d42e04808.A21TJRUUN4KGV.en_IN&creativeASIN=B08P3LVRL8&crid=1YGMFKF3ONBQB&cv_ct_cx=laptop&cv_ct_id=amzn1.osa.bdcb726a-fa62-4ed1-ac29-682d42e04808.A21TJRUUN4KGV.en_IN&cv_ct_pg=search&cv_ct_we=asin&cv_ct_wn=osp-single-source-earns-comm&keywords=laptop&linkCode=oas&pd_rd_i=B08P3LVRL8&pd_rd_r=bdf4590f-0270-4a48-b19d-0282e7b74a87&pd_rd_w=TrvPd&pd_rd_wg=eQS2Z&pf_rd_p=0e89a72f-7500-4160-954f-faff18efeda5&pf_rd_r=EGFVGDCF2NE2Q83ZZPBT&qid=1643565104&sprefix=laptop%2Caps%2C1106&sr=1-1-61f4c597-7a45-4a97-bd75-c52903f8ee93&tag=timessyndicat-21',\n",
       " 'https://www.amazon.in/HP-Processor-15-6-inch-i5-10300H-15-ek0015TX/dp/B08CGLDF1S/ref=sxin_12?asc_contentid=amzn1.osa.bdcb726a-fa62-4ed1-ac29-682d42e04808.A21TJRUUN4KGV.en_IN&asc_contenttype=article&ascsubtag=amzn1.osa.bdcb726a-fa62-4ed1-ac29-682d42e04808.A21TJRUUN4KGV.en_IN&creativeASIN=B08CGLDF1S&crid=1YGMFKF3ONBQB&cv_ct_cx=laptop&cv_ct_id=amzn1.osa.bdcb726a-fa62-4ed1-ac29-682d42e04808.A21TJRUUN4KGV.en_IN&cv_ct_pg=search&cv_ct_we=asin&cv_ct_wn=osp-single-source-earns-comm&keywords=laptop&linkCode=oas&pd_rd_i=B08CGLDF1S&pd_rd_r=bdf4590f-0270-4a48-b19d-0282e7b74a87&pd_rd_w=TrvPd&pd_rd_wg=eQS2Z&pf_rd_p=0e89a72f-7500-4160-954f-faff18efeda5&pf_rd_r=EGFVGDCF2NE2Q83ZZPBT&qid=1643565104&sprefix=laptop%2Caps%2C1106&sr=1-2-61f4c597-7a45-4a97-bd75-c52903f8ee93&tag=timessyndicat-21',\n",
       " 'https://www.amazon.in/Lenovo-IdeaPad-39-62cms-Graphics-82EY00L9IN/dp/B08SK27PKH/ref=sxin_12?asc_contentid=amzn1.osa.bdcb726a-fa62-4ed1-ac29-682d42e04808.A21TJRUUN4KGV.en_IN&asc_contenttype=article&ascsubtag=amzn1.osa.bdcb726a-fa62-4ed1-ac29-682d42e04808.A21TJRUUN4KGV.en_IN&creativeASIN=B08SK27PKH&crid=1YGMFKF3ONBQB&cv_ct_cx=laptop&cv_ct_id=amzn1.osa.bdcb726a-fa62-4ed1-ac29-682d42e04808.A21TJRUUN4KGV.en_IN&cv_ct_pg=search&cv_ct_we=asin&cv_ct_wn=osp-single-source-earns-comm&keywords=laptop&linkCode=oas&pd_rd_i=B08SK27PKH&pd_rd_r=bdf4590f-0270-4a48-b19d-0282e7b74a87&pd_rd_w=TrvPd&pd_rd_wg=eQS2Z&pf_rd_p=0e89a72f-7500-4160-954f-faff18efeda5&pf_rd_r=EGFVGDCF2NE2Q83ZZPBT&qid=1643565104&sprefix=laptop%2Caps%2C1106&sr=1-3-61f4c597-7a45-4a97-bd75-c52903f8ee93&tag=timessyndicat-21',\n",
       " 'https://www.amazon.in/Lenovo-IdeaPad-Celeron-Platinum-81VT0071IN/dp/B09G9ZPV38/ref=sr_1_6?crid=1YGMFKF3ONBQB&keywords=laptop&qid=1643565104&sprefix=laptop%2Caps%2C1106&sr=8-6',\n",
       " 'https://www.amazon.in/ASUS-VivoBook-i7-1065G7-Integrated-X415JA-EK701WS/dp/B09LJ4VLHH/ref=sr_1_7?crid=1YGMFKF3ONBQB&keywords=laptop&qid=1643565104&sprefix=laptop%2Caps%2C1106&sr=8-7',\n",
       " 'https://www.amazon.in/Lenovo-Keyboard-Fingerprint-Graphite-82FG01H9IN/dp/B09M423NVT/ref=sr_1_8?crid=1YGMFKF3ONBQB&keywords=laptop&qid=1643565104&sprefix=laptop%2Caps%2C1106&sr=8-8',\n",
       " 'https://www.amazon.in/HP-Chromebook-14a-na0002TU-Integrated-Graphics/dp/B08C5WLK3P/ref=sr_1_9?crid=1YGMFKF3ONBQB&keywords=laptop&qid=1643565104&sprefix=laptop%2Caps%2C1106&sr=8-9',\n",
       " 'https://www.amazon.in/HP-i3-8GB-Micro-Edge-Display-Windows/dp/B09KM1BVFH/ref=sr_1_10?crid=1YGMFKF3ONBQB&keywords=laptop&qid=1643565104&sprefix=laptop%2Caps%2C1106&sr=8-10',\n",
       " 'https://www.amazon.in/Dell-Integrated-Inspiron-3510-D560717WIN9B/dp/B09NLR1TWF/ref=sr_1_11?crid=1YGMFKF3ONBQB&keywords=laptop&qid=1643565104&sprefix=laptop%2Caps%2C1106&sr=8-11',\n",
       " 'https://www.amazon.in/Acer-A514-54-Display-i5-1135G7-Processor/dp/B09NNM84HX/ref=sr_1_12?crid=1YGMFKF3ONBQB&keywords=laptop&qid=1643565104&sprefix=laptop%2Caps%2C1106&sr=8-12',\n",
       " 'https://www.amazon.in/HP-15-6-inch-Micro-Edge-Anti-Glare-15s-du3517TU/dp/B09PBTLW9F/ref=sr_1_13?crid=1YGMFKF3ONBQB&keywords=laptop&qid=1643565104&sprefix=laptop%2Caps%2C1106&sr=8-13',\n",
       " 'https://www.amazon.in/RDP-ThinBook-1010-Celeron-Processor/dp/B0924PSV78/ref=sr_1_14?crid=1YGMFKF3ONBQB&keywords=laptop&qid=1643565104&sprefix=laptop%2Caps%2C1106&sr=8-14',\n",
       " 'https://www.amazon.in/HP-3250U-Windows-Graphics-15s-gy0501AU/dp/B09FL5CK19/ref=sr_1_15?crid=1YGMFKF3ONBQB&keywords=laptop&qid=1643565104&sprefix=laptop%2Caps%2C1106&sr=8-15',\n",
       " 'https://www.amazon.in/Dell-i3-1115G4-Integrated-3511-D560581WIN9BE/dp/B09F3QP9JS/ref=sr_1_16?crid=1YGMFKF3ONBQB&keywords=laptop&qid=1643565104&sprefix=laptop%2Caps%2C1106&sr=8-16',\n",
       " 'https://www.amazon.in/ASUS-VivoBook-i3-10110U-39-62cms-X515FA-EJ311TS/dp/B09N9P9TWG/ref=sr_1_17?crid=1YGMFKF3ONBQB&keywords=laptop&qid=1643565104&sprefix=laptop%2Caps%2C1106&sr=8-17',\n",
       " 'https://www.amazon.in/HP-Pavilion-Anti-Glare-Fingerprint-14-dv1001TU/dp/B09MH5MLYP/ref=sr_1_18?crid=1YGMFKF3ONBQB&keywords=laptop&qid=1643565104&sprefix=laptop%2Caps%2C1106&sr=8-18',\n",
       " 'https://www.amazon.in/gp/slredirect/picassoRedirect.html/ref=pa_sp_btf_aps_sr_pg1_1?ie=UTF8&adId=A0920238GM3HWTBWOPYY&url=%2FHP-3250U-Windows-Graphics-15s-gy0501AU%2Fdp%2FB09FL5CK19%2Fref%3Dsr_1_19_sspa%3Fcrid%3D1YGMFKF3ONBQB%26keywords%3Dlaptop%26qid%3D1643565104%26sprefix%3Dlaptop%252Caps%252C1106%26sr%3D8-19-spons%26psc%3D1&qualifier=1643565104&id=8972267957677099&widgetName=sp_btf',\n",
       " 'https://www.amazon.in/gp/slredirect/picassoRedirect.html/ref=pa_sp_btf_aps_sr_pg1_1?ie=UTF8&adId=A06070453NOUPG64YRGTK&url=%2FHP-Pavilion-Micro-Edge-Anti-Glare-14-ec0035AU%2Fdp%2FB09GDR9KK1%2Fref%3Dsr_1_20_sspa%3Fcrid%3D1YGMFKF3ONBQB%26keywords%3Dlaptop%26qid%3D1643565104%26sprefix%3Dlaptop%252Caps%252C1106%26sr%3D8-20-spons%26psc%3D1&qualifier=1643565104&id=8972267957677099&widgetName=sp_btf',\n",
       " 'https://www.amazon.in/gp/slredirect/picassoRedirect.html/ref=pa_sp_btf_aps_sr_pg1_1?ie=UTF8&adId=A02416192XGTV6S0Q8VXQ&url=%2FHP-Micro-Edge-Display-Windows-Natural%2Fdp%2FB09KLZJDT6%2Fref%3Dsr_1_21_sspa%3Fcrid%3D1YGMFKF3ONBQB%26keywords%3Dlaptop%26qid%3D1643565104%26sprefix%3Dlaptop%252Caps%252C1106%26sr%3D8-21-spons%26psc%3D1&qualifier=1643565104&id=8972267957677099&widgetName=sp_btf',\n",
       " 'https://www.amazon.in/gp/slredirect/picassoRedirect.html/ref=pa_sp_btf_aps_sr_pg1_1?ie=UTF8&adId=A09202881OZ1KM3M43Q7H&url=%2FHP-Pavilion-Anti-Glare-Fingerprint-15-eh1108AU%2Fdp%2FB09HV3WT9J%2Fref%3Dsr_1_22_sspa%3Fcrid%3D1YGMFKF3ONBQB%26keywords%3Dlaptop%26qid%3D1643565104%26sprefix%3Dlaptop%252Caps%252C1106%26sr%3D8-22-spons%26psc%3D1&qualifier=1643565104&id=8972267957677099&widgetName=sp_btf',\n",
       " 'https://www.amazon.in/Lenovo-Celeron-Laptop-Warranty-82C30052IH/dp/B09HHL3BNR/ref=sr_1_17?crid=1YGMFKF3ONBQB&keywords=laptop&qid=1643565111&sprefix=laptop%2Caps%2C1106&sr=8-17',\n",
       " 'https://www.amazon.in/Acer-Aspire-Athlon-Dual-core-Processor/dp/B09NBP5XGD/ref=sr_1_18?crid=1YGMFKF3ONBQB&keywords=laptop&qid=1643565111&sprefix=laptop%2Caps%2C1106&sr=8-18',\n",
       " 'https://www.amazon.in/Lenovo-IdeaPad-Warranty-Platinum-81X700CWIN/dp/B09MM5TSJ7/ref=sr_1_19?crid=1YGMFKF3ONBQB&keywords=laptop&qid=1643565111&sprefix=laptop%2Caps%2C1106&sr=8-19',\n",
       " 'https://www.amazon.in/HP-3-3250-Laptop-Windows-15s-gr0012AU/dp/B08T6THSMQ/ref=sr_1_20?crid=1YGMFKF3ONBQB&keywords=laptop&qid=1643565111&sprefix=laptop%2Caps%2C1106&sr=8-20',\n",
       " 'https://www.amazon.in/Lenovo-IdeaPad-Windows-Warranty-82H801L7IN/dp/B09NP4KXMS/ref=sr_1_21?crid=1YGMFKF3ONBQB&keywords=laptop&qid=1643565111&sprefix=laptop%2Caps%2C1106&sr=8-21',\n",
       " 'https://www.amazon.in/HP-Pavilion-15-6-inch-Graphics-15-ec2146AX/dp/B09MF6F4GH/ref=sr_1_22?crid=1YGMFKF3ONBQB&keywords=laptop&qid=1643565111&sprefix=laptop%2Caps%2C1106&sr=8-22',\n",
       " 'https://www.amazon.in/Lenovo-IdeaPad-Warranty-Platinum-81WB01BCIN/dp/B09MKMT64V/ref=sr_1_23?crid=1YGMFKF3ONBQB&keywords=laptop&qid=1643565111&sprefix=laptop%2Caps%2C1106&sr=8-23',\n",
       " 'https://www.amazon.in/Lenovo-IdeaPad-Graphics-Platinum-81WB018EIN/dp/B09M41LYSC/ref=sr_1_24?crid=1YGMFKF3ONBQB&keywords=laptop&qid=1643565111&sprefix=laptop%2Caps%2C1106&sr=8-24',\n",
       " 'https://www.amazon.in/Dell-Integrated-Inspiron-3511-D560652WIN9S/dp/B09NLSFZ9S/ref=sr_1_25?crid=1YGMFKF3ONBQB&keywords=laptop&qid=1643565111&sprefix=laptop%2Caps%2C1106&sr=8-25',\n",
       " 'https://www.amazon.in/Lenovo-Ideapad-Keyboard-Warranty-82KU017KIN/dp/B09MM58Y7Q/ref=sr_1_26?crid=1YGMFKF3ONBQB&keywords=laptop&qid=1643565111&sprefix=laptop%2Caps%2C1106&sr=8-26',\n",
       " 'https://www.amazon.in/Lenovo-IdeaPad-Celeron-Platinum-81WH007KIN/dp/B09MM4FPMR/ref=sr_1_27?crid=1YGMFKF3ONBQB&keywords=laptop&qid=1643565111&sprefix=laptop%2Caps%2C1106&sr=8-27',\n",
       " 'https://www.amazon.in/Dell-Office21-Vostro-3405-D552234WIN9B/dp/B09NLS4ZMH/ref=sr_1_28?crid=1YGMFKF3ONBQB&keywords=laptop&qid=1643565111&sprefix=laptop%2Caps%2C1106&sr=8-28',\n",
       " 'https://www.amazon.in/ASUS-VivoBook-i3-1005G1-Integrated-X415JA-EK104T/dp/B094JW9DGZ/ref=sr_1_29?crid=1YGMFKF3ONBQB&keywords=laptop&qid=1643565111&sprefix=laptop%2Caps%2C1106&sr=8-29',\n",
       " 'https://www.amazon.in/Lenovo-IdeaPad-Graphics-Platinum-81WB0193IN/dp/B09M3Y4ZV4/ref=sr_1_30?crid=1YGMFKF3ONBQB&keywords=laptop&qid=1643565111&sprefix=laptop%2Caps%2C1106&sr=8-30',\n",
       " 'https://www.amazon.in/Dell-Integrated-Inspiron-3511-D560677WIN9BE/dp/B09M4CB7R6/ref=sr_1_31?crid=1YGMFKF3ONBQB&keywords=laptop&qid=1643565111&sprefix=laptop%2Caps%2C1106&sr=8-31',\n",
       " 'https://www.amazon.in/Dell-Integrated-Vostro-3401-D552224WIN9D/dp/B09NLRP8K6/ref=sr_1_32?crid=1YGMFKF3ONBQB&keywords=laptop&qid=1643565111&sprefix=laptop%2Caps%2C1106&sr=8-32',\n",
       " 'https://www.amazon.in/HP-Pavilion-15-6-inch-Graphics-15-ec2145AX/dp/B09MF6MD5L/ref=sr_1_33?crid=1YGMFKF3ONBQB&keywords=laptop&qid=1643565115&sprefix=laptop%2Caps%2C1106&sr=8-33',\n",
       " 'https://www.amazon.in/HP-Laptop-Graphics-Office-Natural/dp/B09MH9M5CV/ref=sr_1_34?crid=1YGMFKF3ONBQB&keywords=laptop&qid=1643565115&sprefix=laptop%2Caps%2C1106&sr=8-34',\n",
       " 'https://www.amazon.in/Lenovo-IdeaPad-Fingerprint-Warranty-82H7016KIN/dp/B09NP5PCVY/ref=sr_1_35?crid=1YGMFKF3ONBQB&keywords=laptop&qid=1643565115&sprefix=laptop%2Caps%2C1106&sr=8-35',\n",
       " 'https://www.amazon.in/ASUS-VivoBook-i5-1035G1-39-62cms-X515JA-EJ562WS/dp/B09N9QY6DL/ref=sr_1_36?crid=1YGMFKF3ONBQB&keywords=laptop&qid=1643565115&sprefix=laptop%2Caps%2C1106&sr=8-36',\n",
       " 'https://www.amazon.in/Acer-AN515-57-i5-11400H-Graphics-Keyboard/dp/B09HHL1VQN/ref=sr_1_37?crid=1YGMFKF3ONBQB&keywords=laptop&qid=1643565115&sprefix=laptop%2Caps%2C1106&sr=8-37',\n",
       " 'https://www.amazon.in/ASUS-VivoBook-i3-1005G1-14-Inch-X415JA-EB362WS/dp/B09N9SL7PT/ref=sr_1_38?crid=1YGMFKF3ONBQB&keywords=laptop&qid=1643565115&sprefix=laptop%2Caps%2C1106&sr=8-38',\n",
       " 'https://www.amazon.in/ASUS-VivoBook-i3-10110U-Integrated-X409FA-EK617T/dp/B09C8RD7BM/ref=sr_1_39?crid=1YGMFKF3ONBQB&keywords=laptop&qid=1643565115&sprefix=laptop%2Caps%2C1106&sr=8-39',\n",
       " 'https://www.amazon.in/HP-Pavilion-Micro-Edge-Graphics-14-dv1000TU/dp/B09KGQY5BS/ref=sr_1_40?crid=1YGMFKF3ONBQB&keywords=laptop&qid=1643565115&sprefix=laptop%2Caps%2C1106&sr=8-40',\n",
       " 'https://www.amazon.in/HP-Convertible-Touchscreen-13-ay0045AU-Subscription/dp/B09QMHCXTQ/ref=sr_1_41?crid=1YGMFKF3ONBQB&keywords=laptop&qid=1643565115&sprefix=laptop%2Caps%2C1106&sr=8-41',\n",
       " 'https://www.amazon.in/Dell-Graphics-Inspiron-3505-D560613WIN9SE/dp/B09F3NL1RT/ref=sr_1_42?crid=1YGMFKF3ONBQB&keywords=laptop&qid=1643565115&sprefix=laptop%2Caps%2C1106&sr=8-42',\n",
       " 'https://www.amazon.in/HP-Micro-Edge-Display-Windows-Natural/dp/B09KLZJDT6/ref=sr_1_43?crid=1YGMFKF3ONBQB&keywords=laptop&qid=1643565115&sprefix=laptop%2Caps%2C1106&sr=8-43',\n",
       " 'https://www.amazon.in/Dell-Integrated-Inspiron-3511-D560662WIN9BE/dp/B09NLS8HWD/ref=sr_1_44?crid=1YGMFKF3ONBQB&keywords=laptop&qid=1643565115&sprefix=laptop%2Caps%2C1106&sr=8-44',\n",
       " 'https://www.amazon.in/HP-640-Upgradable-Graphics-Warranty/dp/B09GVRXZVP/ref=sr_1_45?crid=1YGMFKF3ONBQB&keywords=laptop&qid=1643565115&sprefix=laptop%2Caps%2C1106&sr=8-45',\n",
       " 'https://www.amazon.in/ASUS-VivoBook-Integrated-Graphics-M415DA-EK322TS/dp/B09DX9ML9D/ref=sr_1_46?crid=1YGMFKF3ONBQB&keywords=laptop&qid=1643565115&sprefix=laptop%2Caps%2C1106&sr=8-46',\n",
       " 'https://www.amazon.in/Lenovo-IdeaPad-Warranty-Platinum-81WB01B0IN/dp/B09P1KJ37T/ref=sr_1_47?crid=1YGMFKF3ONBQB&keywords=laptop&qid=1643565115&sprefix=laptop%2Caps%2C1106&sr=8-47',\n",
       " 'https://www.amazon.in/Lenovo-IdeaPad-Celeron-Platinum-81WH001NIN/dp/B09GTPQSHR/ref=sr_1_48?crid=1YGMFKF3ONBQB&keywords=laptop&qid=1643565115&sprefix=laptop%2Caps%2C1106&sr=8-48']"
      ]
     },
     "execution_count": 81,
     "metadata": {},
     "output_type": "execute_result"
    }
   ],
   "source": [
    "product_urls"
   ]
  },
  {
   "cell_type": "markdown",
   "id": "889b040b",
   "metadata": {},
   "source": [
    "# 2.product listed in first 3 pages of your search results and save it in a data frame and csv"
   ]
  },
  {
   "cell_type": "code",
   "execution_count": 69,
   "id": "6ae62e0e",
   "metadata": {},
   "outputs": [],
   "source": [
    "urls=product_urls\n",
    "brand_name=[]\n",
    "product_namr=[]\n",
    "price=[]\n",
    "return_policy=[]\n",
    "exp_delivery=[]\n",
    "avialablity=[]\n",
    "url=[]"
   ]
  },
  {
   "cell_type": "code",
   "execution_count": 83,
   "id": "e5875309",
   "metadata": {},
   "outputs": [
    {
     "ename": "NoSuchWindowException",
     "evalue": "Message: no such window: window was already closed\n  (Session info: chrome=97.0.4692.99)\nStacktrace:\nBacktrace:\n\tOrdinal0 [0x00C2FDC3+2555331]\n\tOrdinal0 [0x00BC77F1+2127857]\n\tOrdinal0 [0x00AC2E08+1060360]\n\tOrdinal0 [0x00AB8B77+1018743]\n\tOrdinal0 [0x00AB9C02+1022978]\n\tOrdinal0 [0x00AB3AB9+998073]\n\tOrdinal0 [0x00AC4040+1065024]\n\tOrdinal0 [0x00B16DC2+1404354]\n\tOrdinal0 [0x00B07976+1341814]\n\tOrdinal0 [0x00AE36B6+1193654]\n\tOrdinal0 [0x00AE4546+1197382]\n\tGetHandleVerifier [0x00DC9622+1619522]\n\tGetHandleVerifier [0x00E7882C+2336844]\n\tGetHandleVerifier [0x00CC23E1+541697]\n\tGetHandleVerifier [0x00CC1443+537699]\n\tOrdinal0 [0x00BCD18E+2150798]\n\tOrdinal0 [0x00BD1518+2168088]\n\tOrdinal0 [0x00BD1660+2168416]\n\tOrdinal0 [0x00BDB330+2208560]\n\tBaseThreadInitThunk [0x7693FA29+25]\n\tRtlGetAppContainerNamedObjectPath [0x77377A9E+286]\n\tRtlGetAppContainerNamedObjectPath [0x77377A6E+238]\n",
     "output_type": "error",
     "traceback": [
      "\u001b[1;31m---------------------------------------------------------------------------\u001b[0m",
      "\u001b[1;31mNoSuchWindowException\u001b[0m                     Traceback (most recent call last)",
      "\u001b[1;32m~\\AppData\\Local\\Temp/ipykernel_8044/4083352833.py\u001b[0m in \u001b[0;36m<module>\u001b[1;34m\u001b[0m\n\u001b[0;32m      1\u001b[0m \u001b[1;32mfor\u001b[0m \u001b[0mi\u001b[0m \u001b[1;32min\u001b[0m \u001b[0murls\u001b[0m\u001b[1;33m:\u001b[0m\u001b[1;33m\u001b[0m\u001b[1;33m\u001b[0m\u001b[0m\n\u001b[1;32m----> 2\u001b[1;33m     \u001b[0mdriver\u001b[0m\u001b[1;33m.\u001b[0m\u001b[0mget\u001b[0m\u001b[1;33m(\u001b[0m\u001b[0mi\u001b[0m\u001b[1;33m)\u001b[0m\u001b[1;33m\u001b[0m\u001b[1;33m\u001b[0m\u001b[0m\n\u001b[0m\u001b[0;32m      3\u001b[0m     \u001b[0mtime\u001b[0m\u001b[1;33m.\u001b[0m\u001b[0msleep\u001b[0m\u001b[1;33m(\u001b[0m\u001b[1;36m2\u001b[0m\u001b[1;33m)\u001b[0m\u001b[1;33m\u001b[0m\u001b[1;33m\u001b[0m\u001b[0m\n\u001b[0;32m      4\u001b[0m     \u001b[1;32mtry\u001b[0m\u001b[1;33m:\u001b[0m\u001b[1;33m\u001b[0m\u001b[1;33m\u001b[0m\u001b[0m\n\u001b[0;32m      5\u001b[0m         \u001b[0mbrand\u001b[0m\u001b[1;33m=\u001b[0m\u001b[0mdriver\u001b[0m\u001b[1;33m.\u001b[0m\u001b[0mfind_element_by_xpath\u001b[0m\u001b[1;33m(\u001b[0m\u001b[1;34m\"//span[@class='a-size-base']\"\u001b[0m\u001b[1;33m)\u001b[0m\u001b[1;33m\u001b[0m\u001b[1;33m\u001b[0m\u001b[0m\n",
      "\u001b[1;32mC:\\ProgramData\\Anaconda3\\lib\\site-packages\\selenium\\webdriver\\remote\\webdriver.py\u001b[0m in \u001b[0;36mget\u001b[1;34m(self, url)\u001b[0m\n\u001b[0;32m    434\u001b[0m         \u001b[0mLoads\u001b[0m \u001b[0ma\u001b[0m \u001b[0mweb\u001b[0m \u001b[0mpage\u001b[0m \u001b[1;32min\u001b[0m \u001b[0mthe\u001b[0m \u001b[0mcurrent\u001b[0m \u001b[0mbrowser\u001b[0m \u001b[0msession\u001b[0m\u001b[1;33m.\u001b[0m\u001b[1;33m\u001b[0m\u001b[1;33m\u001b[0m\u001b[0m\n\u001b[0;32m    435\u001b[0m         \"\"\"\n\u001b[1;32m--> 436\u001b[1;33m         \u001b[0mself\u001b[0m\u001b[1;33m.\u001b[0m\u001b[0mexecute\u001b[0m\u001b[1;33m(\u001b[0m\u001b[0mCommand\u001b[0m\u001b[1;33m.\u001b[0m\u001b[0mGET\u001b[0m\u001b[1;33m,\u001b[0m \u001b[1;33m{\u001b[0m\u001b[1;34m'url'\u001b[0m\u001b[1;33m:\u001b[0m \u001b[0murl\u001b[0m\u001b[1;33m}\u001b[0m\u001b[1;33m)\u001b[0m\u001b[1;33m\u001b[0m\u001b[1;33m\u001b[0m\u001b[0m\n\u001b[0m\u001b[0;32m    437\u001b[0m \u001b[1;33m\u001b[0m\u001b[0m\n\u001b[0;32m    438\u001b[0m     \u001b[1;33m@\u001b[0m\u001b[0mproperty\u001b[0m\u001b[1;33m\u001b[0m\u001b[1;33m\u001b[0m\u001b[0m\n",
      "\u001b[1;32mC:\\ProgramData\\Anaconda3\\lib\\site-packages\\selenium\\webdriver\\remote\\webdriver.py\u001b[0m in \u001b[0;36mexecute\u001b[1;34m(self, driver_command, params)\u001b[0m\n\u001b[0;32m    422\u001b[0m         \u001b[0mresponse\u001b[0m \u001b[1;33m=\u001b[0m \u001b[0mself\u001b[0m\u001b[1;33m.\u001b[0m\u001b[0mcommand_executor\u001b[0m\u001b[1;33m.\u001b[0m\u001b[0mexecute\u001b[0m\u001b[1;33m(\u001b[0m\u001b[0mdriver_command\u001b[0m\u001b[1;33m,\u001b[0m \u001b[0mparams\u001b[0m\u001b[1;33m)\u001b[0m\u001b[1;33m\u001b[0m\u001b[1;33m\u001b[0m\u001b[0m\n\u001b[0;32m    423\u001b[0m         \u001b[1;32mif\u001b[0m \u001b[0mresponse\u001b[0m\u001b[1;33m:\u001b[0m\u001b[1;33m\u001b[0m\u001b[1;33m\u001b[0m\u001b[0m\n\u001b[1;32m--> 424\u001b[1;33m             \u001b[0mself\u001b[0m\u001b[1;33m.\u001b[0m\u001b[0merror_handler\u001b[0m\u001b[1;33m.\u001b[0m\u001b[0mcheck_response\u001b[0m\u001b[1;33m(\u001b[0m\u001b[0mresponse\u001b[0m\u001b[1;33m)\u001b[0m\u001b[1;33m\u001b[0m\u001b[1;33m\u001b[0m\u001b[0m\n\u001b[0m\u001b[0;32m    425\u001b[0m             response['value'] = self._unwrap_value(\n\u001b[0;32m    426\u001b[0m                 response.get('value', None))\n",
      "\u001b[1;32mC:\\ProgramData\\Anaconda3\\lib\\site-packages\\selenium\\webdriver\\remote\\errorhandler.py\u001b[0m in \u001b[0;36mcheck_response\u001b[1;34m(self, response)\u001b[0m\n\u001b[0;32m    245\u001b[0m                 \u001b[0malert_text\u001b[0m \u001b[1;33m=\u001b[0m \u001b[0mvalue\u001b[0m\u001b[1;33m[\u001b[0m\u001b[1;34m'alert'\u001b[0m\u001b[1;33m]\u001b[0m\u001b[1;33m.\u001b[0m\u001b[0mget\u001b[0m\u001b[1;33m(\u001b[0m\u001b[1;34m'text'\u001b[0m\u001b[1;33m)\u001b[0m\u001b[1;33m\u001b[0m\u001b[1;33m\u001b[0m\u001b[0m\n\u001b[0;32m    246\u001b[0m             \u001b[1;32mraise\u001b[0m \u001b[0mexception_class\u001b[0m\u001b[1;33m(\u001b[0m\u001b[0mmessage\u001b[0m\u001b[1;33m,\u001b[0m \u001b[0mscreen\u001b[0m\u001b[1;33m,\u001b[0m \u001b[0mstacktrace\u001b[0m\u001b[1;33m,\u001b[0m \u001b[0malert_text\u001b[0m\u001b[1;33m)\u001b[0m  \u001b[1;31m# type: ignore[call-arg]  # mypy is not smart enough here\u001b[0m\u001b[1;33m\u001b[0m\u001b[1;33m\u001b[0m\u001b[0m\n\u001b[1;32m--> 247\u001b[1;33m         \u001b[1;32mraise\u001b[0m \u001b[0mexception_class\u001b[0m\u001b[1;33m(\u001b[0m\u001b[0mmessage\u001b[0m\u001b[1;33m,\u001b[0m \u001b[0mscreen\u001b[0m\u001b[1;33m,\u001b[0m \u001b[0mstacktrace\u001b[0m\u001b[1;33m)\u001b[0m\u001b[1;33m\u001b[0m\u001b[1;33m\u001b[0m\u001b[0m\n\u001b[0m\u001b[0;32m    248\u001b[0m \u001b[1;33m\u001b[0m\u001b[0m\n\u001b[0;32m    249\u001b[0m     \u001b[1;32mdef\u001b[0m \u001b[0m_value_or_default\u001b[0m\u001b[1;33m(\u001b[0m\u001b[0mself\u001b[0m\u001b[1;33m,\u001b[0m \u001b[0mobj\u001b[0m\u001b[1;33m:\u001b[0m \u001b[0mMapping\u001b[0m\u001b[1;33m[\u001b[0m\u001b[0m_KT\u001b[0m\u001b[1;33m,\u001b[0m \u001b[0m_VT\u001b[0m\u001b[1;33m]\u001b[0m\u001b[1;33m,\u001b[0m \u001b[0mkey\u001b[0m\u001b[1;33m:\u001b[0m \u001b[0m_KT\u001b[0m\u001b[1;33m,\u001b[0m \u001b[0mdefault\u001b[0m\u001b[1;33m:\u001b[0m \u001b[0m_VT\u001b[0m\u001b[1;33m)\u001b[0m \u001b[1;33m->\u001b[0m \u001b[0m_VT\u001b[0m\u001b[1;33m:\u001b[0m\u001b[1;33m\u001b[0m\u001b[1;33m\u001b[0m\u001b[0m\n",
      "\u001b[1;31mNoSuchWindowException\u001b[0m: Message: no such window: window was already closed\n  (Session info: chrome=97.0.4692.99)\nStacktrace:\nBacktrace:\n\tOrdinal0 [0x00C2FDC3+2555331]\n\tOrdinal0 [0x00BC77F1+2127857]\n\tOrdinal0 [0x00AC2E08+1060360]\n\tOrdinal0 [0x00AB8B77+1018743]\n\tOrdinal0 [0x00AB9C02+1022978]\n\tOrdinal0 [0x00AB3AB9+998073]\n\tOrdinal0 [0x00AC4040+1065024]\n\tOrdinal0 [0x00B16DC2+1404354]\n\tOrdinal0 [0x00B07976+1341814]\n\tOrdinal0 [0x00AE36B6+1193654]\n\tOrdinal0 [0x00AE4546+1197382]\n\tGetHandleVerifier [0x00DC9622+1619522]\n\tGetHandleVerifier [0x00E7882C+2336844]\n\tGetHandleVerifier [0x00CC23E1+541697]\n\tGetHandleVerifier [0x00CC1443+537699]\n\tOrdinal0 [0x00BCD18E+2150798]\n\tOrdinal0 [0x00BD1518+2168088]\n\tOrdinal0 [0x00BD1660+2168416]\n\tOrdinal0 [0x00BDB330+2208560]\n\tBaseThreadInitThunk [0x7693FA29+25]\n\tRtlGetAppContainerNamedObjectPath [0x77377A9E+286]\n\tRtlGetAppContainerNamedObjectPath [0x77377A6E+238]\n"
     ]
    }
   ],
   "source": [
    "for i in urls:\n",
    "    driver.get(i)\n",
    "    time.sleep(2)\n",
    "    try:\n",
    "        brand=driver.find_element_by_xpath(\"//span[@class='a-size-base']\")\n",
    "        brand_name.append(brand.text.replace(\"/n\",\"new line\"))\n",
    "    except:\n",
    "        brand_name.append('-')\n",
    "    try:\n",
    "        pr=driver.find_element_by_xpath(\"//span[@class='a-offscreen']\")\n",
    "        price.append(text)\n",
    "    except:\n",
    "        price.append('-')\n",
    "    "
   ]
  },
  {
   "cell_type": "code",
   "execution_count": 82,
   "id": "e0a5f652",
   "metadata": {},
   "outputs": [
    {
     "ename": "ValueError",
     "evalue": "Length of values (0) does not match length of index (57)",
     "output_type": "error",
     "traceback": [
      "\u001b[1;31m---------------------------------------------------------------------------\u001b[0m",
      "\u001b[1;31mValueError\u001b[0m                                Traceback (most recent call last)",
      "\u001b[1;32m~\\AppData\\Local\\Temp/ipykernel_8044/3309178625.py\u001b[0m in \u001b[0;36m<module>\u001b[1;34m\u001b[0m\n\u001b[0;32m      1\u001b[0m \u001b[0mamazone\u001b[0m\u001b[1;33m=\u001b[0m\u001b[0mpd\u001b[0m\u001b[1;33m.\u001b[0m\u001b[0mDataFrame\u001b[0m\u001b[1;33m(\u001b[0m\u001b[1;33m)\u001b[0m\u001b[1;33m\u001b[0m\u001b[1;33m\u001b[0m\u001b[0m\n\u001b[0;32m      2\u001b[0m \u001b[0mamazone\u001b[0m\u001b[1;33m[\u001b[0m\u001b[1;34m'brand name'\u001b[0m\u001b[1;33m]\u001b[0m\u001b[1;33m=\u001b[0m \u001b[0mbrand_name\u001b[0m\u001b[1;33m\u001b[0m\u001b[1;33m\u001b[0m\u001b[0m\n\u001b[1;32m----> 3\u001b[1;33m \u001b[0mamazone\u001b[0m\u001b[1;33m[\u001b[0m\u001b[1;34m'price'\u001b[0m\u001b[1;33m]\u001b[0m\u001b[1;33m=\u001b[0m \u001b[0mprice\u001b[0m\u001b[1;33m\u001b[0m\u001b[1;33m\u001b[0m\u001b[0m\n\u001b[0m\u001b[0;32m      4\u001b[0m \u001b[0mamazone\u001b[0m\u001b[1;33m\u001b[0m\u001b[1;33m\u001b[0m\u001b[0m\n",
      "\u001b[1;32mC:\\ProgramData\\Anaconda3\\lib\\site-packages\\pandas\\core\\frame.py\u001b[0m in \u001b[0;36m__setitem__\u001b[1;34m(self, key, value)\u001b[0m\n\u001b[0;32m   3610\u001b[0m         \u001b[1;32melse\u001b[0m\u001b[1;33m:\u001b[0m\u001b[1;33m\u001b[0m\u001b[1;33m\u001b[0m\u001b[0m\n\u001b[0;32m   3611\u001b[0m             \u001b[1;31m# set column\u001b[0m\u001b[1;33m\u001b[0m\u001b[1;33m\u001b[0m\u001b[0m\n\u001b[1;32m-> 3612\u001b[1;33m             \u001b[0mself\u001b[0m\u001b[1;33m.\u001b[0m\u001b[0m_set_item\u001b[0m\u001b[1;33m(\u001b[0m\u001b[0mkey\u001b[0m\u001b[1;33m,\u001b[0m \u001b[0mvalue\u001b[0m\u001b[1;33m)\u001b[0m\u001b[1;33m\u001b[0m\u001b[1;33m\u001b[0m\u001b[0m\n\u001b[0m\u001b[0;32m   3613\u001b[0m \u001b[1;33m\u001b[0m\u001b[0m\n\u001b[0;32m   3614\u001b[0m     \u001b[1;32mdef\u001b[0m \u001b[0m_setitem_slice\u001b[0m\u001b[1;33m(\u001b[0m\u001b[0mself\u001b[0m\u001b[1;33m,\u001b[0m \u001b[0mkey\u001b[0m\u001b[1;33m:\u001b[0m \u001b[0mslice\u001b[0m\u001b[1;33m,\u001b[0m \u001b[0mvalue\u001b[0m\u001b[1;33m)\u001b[0m\u001b[1;33m:\u001b[0m\u001b[1;33m\u001b[0m\u001b[1;33m\u001b[0m\u001b[0m\n",
      "\u001b[1;32mC:\\ProgramData\\Anaconda3\\lib\\site-packages\\pandas\\core\\frame.py\u001b[0m in \u001b[0;36m_set_item\u001b[1;34m(self, key, value)\u001b[0m\n\u001b[0;32m   3782\u001b[0m         \u001b[0mensure\u001b[0m \u001b[0mhomogeneity\u001b[0m\u001b[1;33m.\u001b[0m\u001b[1;33m\u001b[0m\u001b[1;33m\u001b[0m\u001b[0m\n\u001b[0;32m   3783\u001b[0m         \"\"\"\n\u001b[1;32m-> 3784\u001b[1;33m         \u001b[0mvalue\u001b[0m \u001b[1;33m=\u001b[0m \u001b[0mself\u001b[0m\u001b[1;33m.\u001b[0m\u001b[0m_sanitize_column\u001b[0m\u001b[1;33m(\u001b[0m\u001b[0mvalue\u001b[0m\u001b[1;33m)\u001b[0m\u001b[1;33m\u001b[0m\u001b[1;33m\u001b[0m\u001b[0m\n\u001b[0m\u001b[0;32m   3785\u001b[0m \u001b[1;33m\u001b[0m\u001b[0m\n\u001b[0;32m   3786\u001b[0m         if (\n",
      "\u001b[1;32mC:\\ProgramData\\Anaconda3\\lib\\site-packages\\pandas\\core\\frame.py\u001b[0m in \u001b[0;36m_sanitize_column\u001b[1;34m(self, value)\u001b[0m\n\u001b[0;32m   4507\u001b[0m \u001b[1;33m\u001b[0m\u001b[0m\n\u001b[0;32m   4508\u001b[0m         \u001b[1;32mif\u001b[0m \u001b[0mis_list_like\u001b[0m\u001b[1;33m(\u001b[0m\u001b[0mvalue\u001b[0m\u001b[1;33m)\u001b[0m\u001b[1;33m:\u001b[0m\u001b[1;33m\u001b[0m\u001b[1;33m\u001b[0m\u001b[0m\n\u001b[1;32m-> 4509\u001b[1;33m             \u001b[0mcom\u001b[0m\u001b[1;33m.\u001b[0m\u001b[0mrequire_length_match\u001b[0m\u001b[1;33m(\u001b[0m\u001b[0mvalue\u001b[0m\u001b[1;33m,\u001b[0m \u001b[0mself\u001b[0m\u001b[1;33m.\u001b[0m\u001b[0mindex\u001b[0m\u001b[1;33m)\u001b[0m\u001b[1;33m\u001b[0m\u001b[1;33m\u001b[0m\u001b[0m\n\u001b[0m\u001b[0;32m   4510\u001b[0m         \u001b[1;32mreturn\u001b[0m \u001b[0msanitize_array\u001b[0m\u001b[1;33m(\u001b[0m\u001b[0mvalue\u001b[0m\u001b[1;33m,\u001b[0m \u001b[0mself\u001b[0m\u001b[1;33m.\u001b[0m\u001b[0mindex\u001b[0m\u001b[1;33m,\u001b[0m \u001b[0mcopy\u001b[0m\u001b[1;33m=\u001b[0m\u001b[1;32mTrue\u001b[0m\u001b[1;33m,\u001b[0m \u001b[0mallow_2d\u001b[0m\u001b[1;33m=\u001b[0m\u001b[1;32mTrue\u001b[0m\u001b[1;33m)\u001b[0m\u001b[1;33m\u001b[0m\u001b[1;33m\u001b[0m\u001b[0m\n\u001b[0;32m   4511\u001b[0m \u001b[1;33m\u001b[0m\u001b[0m\n",
      "\u001b[1;32mC:\\ProgramData\\Anaconda3\\lib\\site-packages\\pandas\\core\\common.py\u001b[0m in \u001b[0;36mrequire_length_match\u001b[1;34m(data, index)\u001b[0m\n\u001b[0;32m    529\u001b[0m     \"\"\"\n\u001b[0;32m    530\u001b[0m     \u001b[1;32mif\u001b[0m \u001b[0mlen\u001b[0m\u001b[1;33m(\u001b[0m\u001b[0mdata\u001b[0m\u001b[1;33m)\u001b[0m \u001b[1;33m!=\u001b[0m \u001b[0mlen\u001b[0m\u001b[1;33m(\u001b[0m\u001b[0mindex\u001b[0m\u001b[1;33m)\u001b[0m\u001b[1;33m:\u001b[0m\u001b[1;33m\u001b[0m\u001b[1;33m\u001b[0m\u001b[0m\n\u001b[1;32m--> 531\u001b[1;33m         raise ValueError(\n\u001b[0m\u001b[0;32m    532\u001b[0m             \u001b[1;34m\"Length of values \"\u001b[0m\u001b[1;33m\u001b[0m\u001b[1;33m\u001b[0m\u001b[0m\n\u001b[0;32m    533\u001b[0m             \u001b[1;34mf\"({len(data)}) \"\u001b[0m\u001b[1;33m\u001b[0m\u001b[1;33m\u001b[0m\u001b[0m\n",
      "\u001b[1;31mValueError\u001b[0m: Length of values (0) does not match length of index (57)"
     ]
    }
   ],
   "source": [
    "amazone=pd.DataFrame()\n",
    "amazone['brand name']= brand_name\n",
    "amazone['price']= price\n",
    "amazone"
   ]
  },
  {
   "cell_type": "code",
   "execution_count": null,
   "id": "abf9729b",
   "metadata": {},
   "outputs": [],
   "source": [
    "for i in urls:\n",
    "    driver.get(i)\n",
    "    time.sleep(2)\n",
    "    try:\n",
    "        product=driver.find_element_by_xpath(\"\")"
   ]
  }
 ],
 "metadata": {
  "kernelspec": {
   "display_name": "Python 3 (ipykernel)",
   "language": "python",
   "name": "python3"
  },
  "language_info": {
   "codemirror_mode": {
    "name": "ipython",
    "version": 3
   },
   "file_extension": ".py",
   "mimetype": "text/x-python",
   "name": "python",
   "nbconvert_exporter": "python",
   "pygments_lexer": "ipython3",
   "version": "3.9.7"
  }
 },
 "nbformat": 4,
 "nbformat_minor": 5
}
